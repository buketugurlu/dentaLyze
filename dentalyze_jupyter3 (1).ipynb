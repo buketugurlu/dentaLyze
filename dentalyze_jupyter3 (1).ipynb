{
 "cells": [
  {
   "cell_type": "code",
   "execution_count": 1,
   "id": "ec32f52f-6745-479d-8006-63650b296b92",
   "metadata": {},
   "outputs": [
    {
     "name": "stdout",
     "output_type": "stream",
     "text": [
      "Dataset YAML dosyası oluşturuldu: C:/Users/Kullanıcı/Desktop/dentalyze_jupyter3/Dental OPG XRAY Dataset/dataset.yaml\n"
     ]
    }
   ],
   "source": [
    "import os\n",
    "import yaml\n",
    "\n",
    "# Dataset YAML dosyasını oluşturma\n",
    "dataset_yaml_path = \"C:/Users/Kullanıcı/Desktop/dentalyze_jupyter3/Dental OPG XRAY Dataset/dataset.yaml\"\n",
    "yaml_dir = os.path.dirname(dataset_yaml_path)\n",
    "\n",
    "# Dizini kontrol et ve gerekirse oluştur\n",
    "os.makedirs(yaml_dir, exist_ok=True)\n",
    "\n",
    "# YAML içeriği\n",
    "yaml_content = {\n",
    "    \"path\": \"C:/Users/Kullanıcı/Desktop/dentalyze_jupyter3/Dental OPG XRAY Dataset/Augmented_Data\",\n",
    "    \"train\": \"train/images\",\n",
    "    \"val\": \"valid/images\",\n",
    "    \"test\": \"test/images\",\n",
    "    \"nc\": 6,\n",
    "    \"names\": ['Healthy Teeth', 'Caries', 'Impacted Teeth', 'BDC/BDR', 'Infection', 'Fractured Teeth']\n",
    "}\n",
    "\n",
    "# YAML dosyasını kaydet\n",
    "with open(dataset_yaml_path, \"w\") as yaml_file:\n",
    "    yaml.dump(yaml_content, yaml_file)\n",
    "\n",
    "print(f\"Dataset YAML dosyası oluşturuldu: {dataset_yaml_path}\")\n"
   ]
  },
  {
   "cell_type": "code",
   "execution_count": 2,
   "id": "2ed02af5-de9d-47ed-980d-9bc7ccc880b7",
   "metadata": {},
   "outputs": [
    {
     "name": "stdout",
     "output_type": "stream",
     "text": [
      "CLAHE uygulanıyor...\n"
     ]
    }
   ],
   "source": [
    "import cv2\n",
    "\n",
    "# CLAHE İşleme\n",
    "def apply_clahe(input_dir, output_dir):\n",
    "    if not os.path.exists(output_dir):\n",
    "        os.makedirs(output_dir)\n",
    "    for img_file in os.listdir(input_dir):\n",
    "        img_path = os.path.join(input_dir, img_file)\n",
    "        output_path = os.path.join(output_dir, img_file)\n",
    "        img = cv2.imread(img_path, cv2.IMREAD_GRAYSCALE)\n",
    "        if img is None:\n",
    "            continue\n",
    "        clahe = cv2.createCLAHE(clipLimit=2.0, tileGridSize=(8, 8))\n",
    "        enhanced_img = clahe.apply(img)\n",
    "        cv2.imwrite(output_path, enhanced_img)\n",
    "\n",
    "# Uygulama\n",
    "input_dir = \"C:/Users/Kullanıcı/Desktop/dentalyze_jupyter3/Dental OPG XRAY Dataset/Augmented_Data/train/images\"\n",
    "clahe_dir = \"C:/Users/Kullanıcı/Desktop/dentalyze_jupyter3/Dental OPG XRAY Dataset/Augmented_Data/train/images_clahe\"\n",
    "print(\"CLAHE uygulanıyor...\")\n",
    "apply_clahe(input_dir, clahe_dir)\n"
   ]
  },
  {
   "cell_type": "code",
   "execution_count": 3,
   "id": "0fd508c8-07fc-431b-a2ae-e539e85c614b",
   "metadata": {},
   "outputs": [
    {
     "name": "stderr",
     "output_type": "stream",
     "text": [
      "C:\\Users\\Kullanıcı\\AppData\\Roaming\\Python\\Python312\\site-packages\\tqdm\\auto.py:21: TqdmWarning: IProgress not found. Please update jupyter and ipywidgets. See https://ipywidgets.readthedocs.io/en/stable/user_install.html\n",
      "  from .autonotebook import tqdm as notebook_tqdm\n"
     ]
    },
    {
     "name": "stdout",
     "output_type": "stream",
     "text": [
      "Augmentasyon uygulanıyor...\n"
     ]
    }
   ],
   "source": [
    "from albumentations import Compose, HorizontalFlip, ShiftScaleRotate, Affine\n",
    "\n",
    "# Augmentasyon\n",
    "def augment_image(image_path, save_path):\n",
    "    image = cv2.imread(image_path)\n",
    "    transform = Compose([\n",
    "        HorizontalFlip(p=0.5),\n",
    "        ShiftScaleRotate(shift_limit=0.0625, scale_limit=0.2, rotate_limit=15, p=0.7),\n",
    "        Affine(shear=15, p=0.5),\n",
    "    ])\n",
    "    augmented = transform(image=image)\n",
    "    cv2.imwrite(save_path, augmented[\"image\"])\n",
    "\n",
    "# Uygulama\n",
    "augmented_dir = \"C:/Users/Kullanıcı/Desktop/dentalyze_jupyter3/Dental OPG XRAY Dataset/Augmented_Data/train/images_augmented\"\n",
    "print(\"Augmentasyon uygulanıyor...\")\n",
    "os.makedirs(augmented_dir, exist_ok=True)\n",
    "for img_file in os.listdir(clahe_dir):\n",
    "    augment_image(os.path.join(clahe_dir, img_file), os.path.join(augmented_dir, img_file))\n"
   ]
  },
  {
   "cell_type": "code",
   "execution_count": 4,
   "id": "7a173c3a-483b-4b9a-8740-b869726faa83",
   "metadata": {},
   "outputs": [
    {
     "name": "stdout",
     "output_type": "stream",
     "text": [
      "Eğitim başlatılıyor...\n",
      "Downloading https://github.com/ultralytics/assets/releases/download/v8.3.0/yolov8n.pt to 'yolov8n.pt'...\n"
     ]
    },
    {
     "name": "stderr",
     "output_type": "stream",
     "text": [
      "\n",
      "00%|██████████████████████████████████████████████████████████████████████████████| 6.25M/6.25M [00:24<00:00, 262kB/s]"
     ]
    },
    {
     "name": "stdout",
     "output_type": "stream",
     "text": [
      "New https://pypi.org/project/ultralytics/8.3.49 available  Update with 'pip install -U ultralytics'\n",
      "Ultralytics 8.3.48  Python-3.12.6 torch-2.5.1+cu118 CPU (AMD Ryzen 5 3500U with Radeon Vega Mobile Gfx)\n",
      "\u001b[34m\u001b[1mengine\\trainer: \u001b[0mtask=detect, mode=train, model=yolov8n.pt, data=C:/Users/Kullanc/Desktop/dentalyze_jupyter3/Dental OPG XRAY Dataset/dataset.yaml, epochs=100, time=None, patience=100, batch=16, imgsz=640, save=True, save_period=-1, cache=False, device=None, workers=8, project=C:/Users/Kullanc/Desktop/dentalyze_jupyter3, name=dental_detection, exist_ok=False, pretrained=True, optimizer=auto, verbose=True, seed=0, deterministic=True, single_cls=False, rect=False, cos_lr=False, close_mosaic=10, resume=False, amp=True, fraction=1.0, profile=False, freeze=None, multi_scale=False, overlap_mask=True, mask_ratio=4, dropout=0.0, val=True, split=val, save_json=False, save_hybrid=False, conf=None, iou=0.7, max_det=300, half=False, dnn=False, plots=True, source=None, vid_stride=1, stream_buffer=False, visualize=False, augment=False, agnostic_nms=False, classes=None, retina_masks=False, embed=None, show=False, save_frames=False, save_txt=False, save_conf=False, save_crop=False, show_labels=True, show_conf=True, show_boxes=True, line_width=None, format=torchscript, keras=False, optimize=False, int8=False, dynamic=False, simplify=True, opset=None, workspace=None, nms=False, lr0=0.01, lrf=0.01, momentum=0.937, weight_decay=0.0005, warmup_epochs=3.0, warmup_momentum=0.8, warmup_bias_lr=0.1, box=7.5, cls=0.5, dfl=1.5, pose=12.0, kobj=1.0, nbs=64, hsv_h=0.015, hsv_s=0.7, hsv_v=0.4, degrees=0.0, translate=0.1, scale=0.5, shear=0.0, perspective=0.0, flipud=0.0, fliplr=0.5, bgr=0.0, mosaic=1.0, mixup=0.0, copy_paste=0.0, copy_paste_mode=flip, auto_augment=randaugment, erasing=0.4, crop_fraction=1.0, cfg=None, tracker=botsort.yaml, save_dir=C:\\Users\\Kullanc\\Desktop\\dentalyze_jupyter3\\dental_detection\n",
      "Overriding model.yaml nc=80 with nc=6\n",
      "\n",
      "                   from  n    params  module                                       arguments                     \n",
      "  0                  -1  1       464  ultralytics.nn.modules.conv.Conv             [3, 16, 3, 2]                 \n",
      "  1                  -1  1      4672  ultralytics.nn.modules.conv.Conv             [16, 32, 3, 2]                \n",
      "  2                  -1  1      7360  ultralytics.nn.modules.block.C2f             [32, 32, 1, True]             \n",
      "  3                  -1  1     18560  ultralytics.nn.modules.conv.Conv             [32, 64, 3, 2]                \n",
      "  4                  -1  2     49664  ultralytics.nn.modules.block.C2f             [64, 64, 2, True]             \n",
      "  5                  -1  1     73984  ultralytics.nn.modules.conv.Conv             [64, 128, 3, 2]               \n",
      "  6                  -1  2    197632  ultralytics.nn.modules.block.C2f             [128, 128, 2, True]           \n",
      "  7                  -1  1    295424  ultralytics.nn.modules.conv.Conv             [128, 256, 3, 2]              \n",
      "  8                  -1  1    460288  ultralytics.nn.modules.block.C2f             [256, 256, 1, True]           \n",
      "  9                  -1  1    164608  ultralytics.nn.modules.block.SPPF            [256, 256, 5]                 \n",
      " 10                  -1  1         0  torch.nn.modules.upsampling.Upsample         [None, 2, 'nearest']          \n",
      " 11             [-1, 6]  1         0  ultralytics.nn.modules.conv.Concat           [1]                           \n",
      " 12                  -1  1    148224  ultralytics.nn.modules.block.C2f             [384, 128, 1]                 \n",
      " 13                  -1  1         0  torch.nn.modules.upsampling.Upsample         [None, 2, 'nearest']          \n",
      " 14             [-1, 4]  1         0  ultralytics.nn.modules.conv.Concat           [1]                           \n",
      " 15                  -1  1     37248  ultralytics.nn.modules.block.C2f             [192, 64, 1]                  \n",
      " 16                  -1  1     36992  ultralytics.nn.modules.conv.Conv             [64, 64, 3, 2]                \n",
      " 17            [-1, 12]  1         0  ultralytics.nn.modules.conv.Concat           [1]                           \n",
      " 18                  -1  1    123648  ultralytics.nn.modules.block.C2f             [192, 128, 1]                 \n",
      " 19                  -1  1    147712  ultralytics.nn.modules.conv.Conv             [128, 128, 3, 2]              \n",
      " 20             [-1, 9]  1         0  ultralytics.nn.modules.conv.Concat           [1]                           \n",
      " 21                  -1  1    493056  ultralytics.nn.modules.block.C2f             [384, 256, 1]                 \n",
      " 22        [15, 18, 21]  1    752482  ultralytics.nn.modules.head.Detect           [6, [64, 128, 256]]           \n",
      "Model summary: 225 layers, 3,012,018 parameters, 3,012,002 gradients, 8.2 GFLOPs\n",
      "\n",
      "Transferred 319/355 items from pretrained weights\n",
      "Freezing layer 'model.22.dfl.conv.weight'\n"
     ]
    },
    {
     "name": "stderr",
     "output_type": "stream",
     "text": [
      "\n",
      "[34m\u001b[1mtrain: \u001b[0mScanning C:\\Users\\Kullanıcı\\Desktop\\dentalyze_jupyter3\\Dental OPG XRAY Dataset\\Augmented_Data\\train\\labels... 55\u001b[0m"
     ]
    },
    {
     "name": "stdout",
     "output_type": "stream",
     "text": [
      "\u001b[34m\u001b[1mtrain: \u001b[0mNew cache created: C:\\Users\\Kullanc\\Desktop\\dentalyze_jupyter3\\Dental OPG XRAY Dataset\\Augmented_Data\\train\\labels.cache\n",
      "\u001b[34m\u001b[1malbumentations: \u001b[0mBlur(p=0.01, blur_limit=(3, 7)), MedianBlur(p=0.01, blur_limit=(3, 7)), ToGray(p=0.01, num_output_channels=3, method='weighted_average'), CLAHE(p=0.01, clip_limit=(1.0, 4.0), tile_grid_size=(8, 8))\n"
     ]
    },
    {
     "name": "stderr",
     "output_type": "stream",
     "text": [
      "\u001b[34m\u001b[1mval: \u001b[0mScanning C:\\Users\\Kullanıcı\\Desktop\\dentalyze_jupyter3\\Dental OPG XRAY Dataset\\Augmented_Data\\valid\\labels... 23 i\u001b[0m"
     ]
    },
    {
     "name": "stdout",
     "output_type": "stream",
     "text": [
      "\u001b[34m\u001b[1mval: \u001b[0mNew cache created: C:\\Users\\Kullanc\\Desktop\\dentalyze_jupyter3\\Dental OPG XRAY Dataset\\Augmented_Data\\valid\\labels.cache\n"
     ]
    },
    {
     "name": "stderr",
     "output_type": "stream",
     "text": [
      "\n"
     ]
    },
    {
     "name": "stdout",
     "output_type": "stream",
     "text": [
      "Plotting labels to C:\\Users\\Kullanc\\Desktop\\dentalyze_jupyter3\\dental_detection\\labels.jpg... \n",
      "\u001b[34m\u001b[1moptimizer:\u001b[0m 'optimizer=auto' found, ignoring 'lr0=0.01' and 'momentum=0.937' and determining best 'optimizer', 'lr0' and 'momentum' automatically... \n",
      "\u001b[34m\u001b[1moptimizer:\u001b[0m AdamW(lr=0.001, momentum=0.9) with parameter groups 57 weight(decay=0.0), 64 weight(decay=0.0005), 63 bias(decay=0.0)\n",
      "Image sizes 640 train, 640 val\n",
      "Using 0 dataloader workers\n",
      "Logging results to \u001b[1mC:\\Users\\Kullanc\\Desktop\\dentalyze_jupyter3\\dental_detection\u001b[0m\n",
      "Starting training for 100 epochs...\n",
      "\n",
      "      Epoch    GPU_mem   box_loss   cls_loss   dfl_loss  Instances       Size\n"
     ]
    },
    {
     "name": "stderr",
     "output_type": "stream",
     "text": [
      "\n",
      "                 Class     Images  Instances      Box(P          R      mAP50  mAP50-95): 100%|██████████| 1/1 [00:06<0"
     ]
    },
    {
     "name": "stdout",
     "output_type": "stream",
     "text": [
      "                   all         23        115    0.00701      0.139     0.0275     0.0074\n"
     ]
    },
    {
     "name": "stderr",
     "output_type": "stream",
     "text": [
      "\n"
     ]
    },
    {
     "name": "stdout",
     "output_type": "stream",
     "text": [
      "\n",
      "      Epoch    GPU_mem   box_loss   cls_loss   dfl_loss  Instances       Size\n"
     ]
    },
    {
     "name": "stderr",
     "output_type": "stream",
     "text": [
      "\n",
      "                 Class     Images  Instances      Box(P          R      mAP50  mAP50-95): 100%|██████████| 1/1 [00:03<0"
     ]
    },
    {
     "name": "stdout",
     "output_type": "stream",
     "text": [
      "                   all         23        115      0.616      0.123      0.119     0.0602\n"
     ]
    },
    {
     "name": "stderr",
     "output_type": "stream",
     "text": [
      "\n"
     ]
    },
    {
     "name": "stdout",
     "output_type": "stream",
     "text": [
      "\n",
      "      Epoch    GPU_mem   box_loss   cls_loss   dfl_loss  Instances       Size\n"
     ]
    },
    {
     "name": "stderr",
     "output_type": "stream",
     "text": [
      "\n",
      "                 Class     Images  Instances      Box(P          R      mAP50  mAP50-95): 100%|██████████| 1/1 [00:03<0"
     ]
    },
    {
     "name": "stdout",
     "output_type": "stream",
     "text": [
      "                   all         23        115      0.636      0.211      0.135     0.0623\n"
     ]
    },
    {
     "name": "stderr",
     "output_type": "stream",
     "text": [
      "\n"
     ]
    },
    {
     "name": "stdout",
     "output_type": "stream",
     "text": [
      "\n",
      "      Epoch    GPU_mem   box_loss   cls_loss   dfl_loss  Instances       Size\n"
     ]
    },
    {
     "name": "stderr",
     "output_type": "stream",
     "text": [
      "\n",
      "                 Class     Images  Instances      Box(P          R      mAP50  mAP50-95): 100%|██████████| 1/1 [00:03<0"
     ]
    },
    {
     "name": "stdout",
     "output_type": "stream",
     "text": [
      "                   all         23        115      0.635      0.228      0.149     0.0774\n"
     ]
    },
    {
     "name": "stderr",
     "output_type": "stream",
     "text": [
      "\n"
     ]
    },
    {
     "name": "stdout",
     "output_type": "stream",
     "text": [
      "\n",
      "      Epoch    GPU_mem   box_loss   cls_loss   dfl_loss  Instances       Size\n"
     ]
    },
    {
     "name": "stderr",
     "output_type": "stream",
     "text": [
      "\n",
      "                 Class     Images  Instances      Box(P          R      mAP50  mAP50-95): 100%|██████████| 1/1 [00:03<0"
     ]
    },
    {
     "name": "stdout",
     "output_type": "stream",
     "text": [
      "                   all         23        115      0.495      0.183      0.174     0.0891\n"
     ]
    },
    {
     "name": "stderr",
     "output_type": "stream",
     "text": [
      "\n"
     ]
    },
    {
     "name": "stdout",
     "output_type": "stream",
     "text": [
      "\n",
      "      Epoch    GPU_mem   box_loss   cls_loss   dfl_loss  Instances       Size\n"
     ]
    },
    {
     "name": "stderr",
     "output_type": "stream",
     "text": [
      "\n",
      "                 Class     Images  Instances      Box(P          R      mAP50  mAP50-95): 100%|██████████| 1/1 [00:03<0"
     ]
    },
    {
     "name": "stdout",
     "output_type": "stream",
     "text": [
      "                   all         23        115      0.555      0.328      0.299      0.134\n"
     ]
    },
    {
     "name": "stderr",
     "output_type": "stream",
     "text": [
      "\n"
     ]
    },
    {
     "name": "stdout",
     "output_type": "stream",
     "text": [
      "\n",
      "      Epoch    GPU_mem   box_loss   cls_loss   dfl_loss  Instances       Size\n"
     ]
    },
    {
     "name": "stderr",
     "output_type": "stream",
     "text": [
      "\n",
      "                 Class     Images  Instances      Box(P          R      mAP50  mAP50-95): 100%|██████████| 1/1 [00:03<0"
     ]
    },
    {
     "name": "stdout",
     "output_type": "stream",
     "text": [
      "                   all         23        115      0.573      0.266      0.232      0.114\n"
     ]
    },
    {
     "name": "stderr",
     "output_type": "stream",
     "text": [
      "\n"
     ]
    },
    {
     "name": "stdout",
     "output_type": "stream",
     "text": [
      "\n",
      "      Epoch    GPU_mem   box_loss   cls_loss   dfl_loss  Instances       Size\n"
     ]
    },
    {
     "name": "stderr",
     "output_type": "stream",
     "text": [
      "\n",
      "                 Class     Images  Instances      Box(P          R      mAP50  mAP50-95): 100%|██████████| 1/1 [00:02<0"
     ]
    },
    {
     "name": "stdout",
     "output_type": "stream",
     "text": [
      "                   all         23        115      0.603      0.243       0.27      0.145\n"
     ]
    },
    {
     "name": "stderr",
     "output_type": "stream",
     "text": [
      "\n"
     ]
    },
    {
     "name": "stdout",
     "output_type": "stream",
     "text": [
      "\n",
      "      Epoch    GPU_mem   box_loss   cls_loss   dfl_loss  Instances       Size\n"
     ]
    },
    {
     "name": "stderr",
     "output_type": "stream",
     "text": [
      "\n",
      "                 Class     Images  Instances      Box(P          R      mAP50  mAP50-95): 100%|██████████| 1/1 [00:03<0"
     ]
    },
    {
     "name": "stdout",
     "output_type": "stream",
     "text": [
      "                   all         23        115      0.621      0.302      0.296      0.148\n"
     ]
    },
    {
     "name": "stderr",
     "output_type": "stream",
     "text": [
      "\n"
     ]
    },
    {
     "name": "stdout",
     "output_type": "stream",
     "text": [
      "\n",
      "      Epoch    GPU_mem   box_loss   cls_loss   dfl_loss  Instances       Size\n"
     ]
    },
    {
     "name": "stderr",
     "output_type": "stream",
     "text": [
      "\n",
      "                 Class     Images  Instances      Box(P          R      mAP50  mAP50-95): 100%|██████████| 1/1 [00:02<0"
     ]
    },
    {
     "name": "stdout",
     "output_type": "stream",
     "text": [
      "                   all         23        115      0.624       0.35      0.333      0.178\n"
     ]
    },
    {
     "name": "stderr",
     "output_type": "stream",
     "text": [
      "\n"
     ]
    },
    {
     "name": "stdout",
     "output_type": "stream",
     "text": [
      "\n",
      "      Epoch    GPU_mem   box_loss   cls_loss   dfl_loss  Instances       Size\n"
     ]
    },
    {
     "name": "stderr",
     "output_type": "stream",
     "text": [
      "\n",
      "                 Class     Images  Instances      Box(P          R      mAP50  mAP50-95): 100%|██████████| 1/1 [00:02<0"
     ]
    },
    {
     "name": "stdout",
     "output_type": "stream",
     "text": [
      "                   all         23        115      0.661      0.359      0.343      0.164\n"
     ]
    },
    {
     "name": "stderr",
     "output_type": "stream",
     "text": [
      "\n"
     ]
    },
    {
     "name": "stdout",
     "output_type": "stream",
     "text": [
      "\n",
      "      Epoch    GPU_mem   box_loss   cls_loss   dfl_loss  Instances       Size\n"
     ]
    },
    {
     "name": "stderr",
     "output_type": "stream",
     "text": [
      "\n",
      "                 Class     Images  Instances      Box(P          R      mAP50  mAP50-95): 100%|██████████| 1/1 [00:03<0"
     ]
    },
    {
     "name": "stdout",
     "output_type": "stream",
     "text": [
      "                   all         23        115      0.569      0.378      0.332      0.163\n"
     ]
    },
    {
     "name": "stderr",
     "output_type": "stream",
     "text": [
      "\n"
     ]
    },
    {
     "name": "stdout",
     "output_type": "stream",
     "text": [
      "\n",
      "      Epoch    GPU_mem   box_loss   cls_loss   dfl_loss  Instances       Size\n"
     ]
    },
    {
     "name": "stderr",
     "output_type": "stream",
     "text": [
      "\n",
      "                 Class     Images  Instances      Box(P          R      mAP50  mAP50-95): 100%|██████████| 1/1 [00:02<0"
     ]
    },
    {
     "name": "stdout",
     "output_type": "stream",
     "text": [
      "                   all         23        115      0.645      0.422      0.354      0.182\n"
     ]
    },
    {
     "name": "stderr",
     "output_type": "stream",
     "text": [
      "\n"
     ]
    },
    {
     "name": "stdout",
     "output_type": "stream",
     "text": [
      "\n",
      "      Epoch    GPU_mem   box_loss   cls_loss   dfl_loss  Instances       Size\n"
     ]
    },
    {
     "name": "stderr",
     "output_type": "stream",
     "text": [
      "\n",
      "                 Class     Images  Instances      Box(P          R      mAP50  mAP50-95): 100%|██████████| 1/1 [00:03<0"
     ]
    },
    {
     "name": "stdout",
     "output_type": "stream",
     "text": [
      "                   all         23        115      0.675      0.299      0.325      0.155\n"
     ]
    },
    {
     "name": "stderr",
     "output_type": "stream",
     "text": [
      "\n"
     ]
    },
    {
     "name": "stdout",
     "output_type": "stream",
     "text": [
      "\n",
      "      Epoch    GPU_mem   box_loss   cls_loss   dfl_loss  Instances       Size\n"
     ]
    },
    {
     "name": "stderr",
     "output_type": "stream",
     "text": [
      "\n",
      "                 Class     Images  Instances      Box(P          R      mAP50  mAP50-95): 100%|██████████| 1/1 [00:03<0"
     ]
    },
    {
     "name": "stdout",
     "output_type": "stream",
     "text": [
      "                   all         23        115       0.52      0.402      0.357      0.162\n"
     ]
    },
    {
     "name": "stderr",
     "output_type": "stream",
     "text": [
      "\n"
     ]
    },
    {
     "name": "stdout",
     "output_type": "stream",
     "text": [
      "\n",
      "      Epoch    GPU_mem   box_loss   cls_loss   dfl_loss  Instances       Size\n"
     ]
    },
    {
     "name": "stderr",
     "output_type": "stream",
     "text": [
      "\n",
      "                 Class     Images  Instances      Box(P          R      mAP50  mAP50-95): 100%|██████████| 1/1 [00:03<0"
     ]
    },
    {
     "name": "stdout",
     "output_type": "stream",
     "text": [
      "                   all         23        115      0.342      0.361      0.348      0.178\n"
     ]
    },
    {
     "name": "stderr",
     "output_type": "stream",
     "text": [
      "\n"
     ]
    },
    {
     "name": "stdout",
     "output_type": "stream",
     "text": [
      "\n",
      "      Epoch    GPU_mem   box_loss   cls_loss   dfl_loss  Instances       Size\n"
     ]
    },
    {
     "name": "stderr",
     "output_type": "stream",
     "text": [
      "\n",
      "                 Class     Images  Instances      Box(P          R      mAP50  mAP50-95): 100%|██████████| 1/1 [00:03<0"
     ]
    },
    {
     "name": "stdout",
     "output_type": "stream",
     "text": [
      "                   all         23        115      0.658      0.341      0.374      0.194\n"
     ]
    },
    {
     "name": "stderr",
     "output_type": "stream",
     "text": [
      "\n"
     ]
    },
    {
     "name": "stdout",
     "output_type": "stream",
     "text": [
      "\n",
      "      Epoch    GPU_mem   box_loss   cls_loss   dfl_loss  Instances       Size\n"
     ]
    },
    {
     "name": "stderr",
     "output_type": "stream",
     "text": [
      "\n",
      "                 Class     Images  Instances      Box(P          R      mAP50  mAP50-95): 100%|██████████| 1/1 [00:02<0"
     ]
    },
    {
     "name": "stdout",
     "output_type": "stream",
     "text": [
      "                   all         23        115      0.438      0.518      0.375      0.202\n"
     ]
    },
    {
     "name": "stderr",
     "output_type": "stream",
     "text": [
      "\n"
     ]
    },
    {
     "name": "stdout",
     "output_type": "stream",
     "text": [
      "\n",
      "      Epoch    GPU_mem   box_loss   cls_loss   dfl_loss  Instances       Size\n"
     ]
    },
    {
     "name": "stderr",
     "output_type": "stream",
     "text": [
      "\n",
      "                 Class     Images  Instances      Box(P          R      mAP50  mAP50-95): 100%|██████████| 1/1 [00:02<0"
     ]
    },
    {
     "name": "stdout",
     "output_type": "stream",
     "text": [
      "                   all         23        115      0.674      0.468      0.415      0.236\n"
     ]
    },
    {
     "name": "stderr",
     "output_type": "stream",
     "text": [
      "\n"
     ]
    },
    {
     "name": "stdout",
     "output_type": "stream",
     "text": [
      "\n",
      "      Epoch    GPU_mem   box_loss   cls_loss   dfl_loss  Instances       Size\n"
     ]
    },
    {
     "name": "stderr",
     "output_type": "stream",
     "text": [
      "\n",
      "                 Class     Images  Instances      Box(P          R      mAP50  mAP50-95): 100%|██████████| 1/1 [00:02<0"
     ]
    },
    {
     "name": "stdout",
     "output_type": "stream",
     "text": [
      "                   all         23        115      0.726      0.388        0.4      0.225\n"
     ]
    },
    {
     "name": "stderr",
     "output_type": "stream",
     "text": [
      "\n"
     ]
    },
    {
     "name": "stdout",
     "output_type": "stream",
     "text": [
      "\n",
      "      Epoch    GPU_mem   box_loss   cls_loss   dfl_loss  Instances       Size\n"
     ]
    },
    {
     "name": "stderr",
     "output_type": "stream",
     "text": [
      "\n",
      "                 Class     Images  Instances      Box(P          R      mAP50  mAP50-95): 100%|██████████| 1/1 [00:02<0"
     ]
    },
    {
     "name": "stdout",
     "output_type": "stream",
     "text": [
      "                   all         23        115      0.523      0.453      0.422      0.235\n"
     ]
    },
    {
     "name": "stderr",
     "output_type": "stream",
     "text": [
      "\n"
     ]
    },
    {
     "name": "stdout",
     "output_type": "stream",
     "text": [
      "\n",
      "      Epoch    GPU_mem   box_loss   cls_loss   dfl_loss  Instances       Size\n"
     ]
    },
    {
     "name": "stderr",
     "output_type": "stream",
     "text": [
      "\n",
      "                 Class     Images  Instances      Box(P          R      mAP50  mAP50-95): 100%|██████████| 1/1 [00:03<0"
     ]
    },
    {
     "name": "stdout",
     "output_type": "stream",
     "text": [
      "                   all         23        115      0.518      0.421      0.397       0.22\n"
     ]
    },
    {
     "name": "stderr",
     "output_type": "stream",
     "text": [
      "\n"
     ]
    },
    {
     "name": "stdout",
     "output_type": "stream",
     "text": [
      "\n",
      "      Epoch    GPU_mem   box_loss   cls_loss   dfl_loss  Instances       Size\n"
     ]
    },
    {
     "name": "stderr",
     "output_type": "stream",
     "text": [
      "\n",
      "                 Class     Images  Instances      Box(P          R      mAP50  mAP50-95): 100%|██████████| 1/1 [00:03<0"
     ]
    },
    {
     "name": "stdout",
     "output_type": "stream",
     "text": [
      "                   all         23        115      0.353       0.44      0.402      0.197\n"
     ]
    },
    {
     "name": "stderr",
     "output_type": "stream",
     "text": [
      "\n"
     ]
    },
    {
     "name": "stdout",
     "output_type": "stream",
     "text": [
      "\n",
      "      Epoch    GPU_mem   box_loss   cls_loss   dfl_loss  Instances       Size\n"
     ]
    },
    {
     "name": "stderr",
     "output_type": "stream",
     "text": [
      "\n",
      "                 Class     Images  Instances      Box(P          R      mAP50  mAP50-95): 100%|██████████| 1/1 [00:03<0"
     ]
    },
    {
     "name": "stdout",
     "output_type": "stream",
     "text": [
      "                   all         23        115      0.477      0.441      0.366      0.197\n"
     ]
    },
    {
     "name": "stderr",
     "output_type": "stream",
     "text": [
      "\n"
     ]
    },
    {
     "name": "stdout",
     "output_type": "stream",
     "text": [
      "\n",
      "      Epoch    GPU_mem   box_loss   cls_loss   dfl_loss  Instances       Size\n"
     ]
    },
    {
     "name": "stderr",
     "output_type": "stream",
     "text": [
      "\n",
      "                 Class     Images  Instances      Box(P          R      mAP50  mAP50-95): 100%|██████████| 1/1 [00:02<0"
     ]
    },
    {
     "name": "stdout",
     "output_type": "stream",
     "text": [
      "                   all         23        115      0.566      0.416      0.428      0.232\n"
     ]
    },
    {
     "name": "stderr",
     "output_type": "stream",
     "text": [
      "\n"
     ]
    },
    {
     "name": "stdout",
     "output_type": "stream",
     "text": [
      "\n",
      "      Epoch    GPU_mem   box_loss   cls_loss   dfl_loss  Instances       Size\n"
     ]
    },
    {
     "name": "stderr",
     "output_type": "stream",
     "text": [
      "\n",
      "                 Class     Images  Instances      Box(P          R      mAP50  mAP50-95): 100%|██████████| 1/1 [00:02<0"
     ]
    },
    {
     "name": "stdout",
     "output_type": "stream",
     "text": [
      "                   all         23        115      0.465      0.497      0.413      0.231\n"
     ]
    },
    {
     "name": "stderr",
     "output_type": "stream",
     "text": [
      "\n"
     ]
    },
    {
     "name": "stdout",
     "output_type": "stream",
     "text": [
      "\n",
      "      Epoch    GPU_mem   box_loss   cls_loss   dfl_loss  Instances       Size\n"
     ]
    },
    {
     "name": "stderr",
     "output_type": "stream",
     "text": [
      "\n",
      "                 Class     Images  Instances      Box(P          R      mAP50  mAP50-95): 100%|██████████| 1/1 [00:02<0"
     ]
    },
    {
     "name": "stdout",
     "output_type": "stream",
     "text": [
      "                   all         23        115      0.595      0.383      0.459      0.256\n"
     ]
    },
    {
     "name": "stderr",
     "output_type": "stream",
     "text": [
      "\n"
     ]
    },
    {
     "name": "stdout",
     "output_type": "stream",
     "text": [
      "\n",
      "      Epoch    GPU_mem   box_loss   cls_loss   dfl_loss  Instances       Size\n"
     ]
    },
    {
     "name": "stderr",
     "output_type": "stream",
     "text": [
      "\n",
      "                 Class     Images  Instances      Box(P          R      mAP50  mAP50-95): 100%|██████████| 1/1 [00:02<0"
     ]
    },
    {
     "name": "stdout",
     "output_type": "stream",
     "text": [
      "                   all         23        115      0.652       0.55       0.51      0.289\n"
     ]
    },
    {
     "name": "stderr",
     "output_type": "stream",
     "text": [
      "\n"
     ]
    },
    {
     "name": "stdout",
     "output_type": "stream",
     "text": [
      "\n",
      "      Epoch    GPU_mem   box_loss   cls_loss   dfl_loss  Instances       Size\n"
     ]
    },
    {
     "name": "stderr",
     "output_type": "stream",
     "text": [
      "\n",
      "                 Class     Images  Instances      Box(P          R      mAP50  mAP50-95): 100%|██████████| 1/1 [00:02<0"
     ]
    },
    {
     "name": "stdout",
     "output_type": "stream",
     "text": [
      "                   all         23        115      0.738      0.518      0.507      0.303\n"
     ]
    },
    {
     "name": "stderr",
     "output_type": "stream",
     "text": [
      "\n"
     ]
    },
    {
     "name": "stdout",
     "output_type": "stream",
     "text": [
      "\n",
      "      Epoch    GPU_mem   box_loss   cls_loss   dfl_loss  Instances       Size\n"
     ]
    },
    {
     "name": "stderr",
     "output_type": "stream",
     "text": [
      "\n",
      "                 Class     Images  Instances      Box(P          R      mAP50  mAP50-95): 100%|██████████| 1/1 [00:02<0"
     ]
    },
    {
     "name": "stdout",
     "output_type": "stream",
     "text": [
      "                   all         23        115      0.613      0.452      0.498      0.282\n"
     ]
    },
    {
     "name": "stderr",
     "output_type": "stream",
     "text": [
      "\n"
     ]
    },
    {
     "name": "stdout",
     "output_type": "stream",
     "text": [
      "\n",
      "      Epoch    GPU_mem   box_loss   cls_loss   dfl_loss  Instances       Size\n"
     ]
    },
    {
     "name": "stderr",
     "output_type": "stream",
     "text": [
      "\n",
      "                 Class     Images  Instances      Box(P          R      mAP50  mAP50-95): 100%|██████████| 1/1 [00:02<0"
     ]
    },
    {
     "name": "stdout",
     "output_type": "stream",
     "text": [
      "                   all         23        115      0.615      0.507      0.449      0.263\n"
     ]
    },
    {
     "name": "stderr",
     "output_type": "stream",
     "text": [
      "\n"
     ]
    },
    {
     "name": "stdout",
     "output_type": "stream",
     "text": [
      "\n",
      "      Epoch    GPU_mem   box_loss   cls_loss   dfl_loss  Instances       Size\n"
     ]
    },
    {
     "name": "stderr",
     "output_type": "stream",
     "text": [
      "\n",
      "                 Class     Images  Instances      Box(P          R      mAP50  mAP50-95): 100%|██████████| 1/1 [00:03<0"
     ]
    },
    {
     "name": "stdout",
     "output_type": "stream",
     "text": [
      "                   all         23        115      0.528      0.478      0.431      0.249\n"
     ]
    },
    {
     "name": "stderr",
     "output_type": "stream",
     "text": [
      "\n"
     ]
    },
    {
     "name": "stdout",
     "output_type": "stream",
     "text": [
      "\n",
      "      Epoch    GPU_mem   box_loss   cls_loss   dfl_loss  Instances       Size\n"
     ]
    },
    {
     "name": "stderr",
     "output_type": "stream",
     "text": [
      "\n",
      "                 Class     Images  Instances      Box(P          R      mAP50  mAP50-95): 100%|██████████| 1/1 [00:02<0"
     ]
    },
    {
     "name": "stdout",
     "output_type": "stream",
     "text": [
      "                   all         23        115      0.534      0.521      0.519      0.296\n"
     ]
    },
    {
     "name": "stderr",
     "output_type": "stream",
     "text": [
      "\n"
     ]
    },
    {
     "name": "stdout",
     "output_type": "stream",
     "text": [
      "\n",
      "      Epoch    GPU_mem   box_loss   cls_loss   dfl_loss  Instances       Size\n"
     ]
    },
    {
     "name": "stderr",
     "output_type": "stream",
     "text": [
      "\n",
      "                 Class     Images  Instances      Box(P          R      mAP50  mAP50-95): 100%|██████████| 1/1 [00:02<0"
     ]
    },
    {
     "name": "stdout",
     "output_type": "stream",
     "text": [
      "                   all         23        115      0.439      0.679      0.554      0.324\n"
     ]
    },
    {
     "name": "stderr",
     "output_type": "stream",
     "text": [
      "\n"
     ]
    },
    {
     "name": "stdout",
     "output_type": "stream",
     "text": [
      "\n",
      "      Epoch    GPU_mem   box_loss   cls_loss   dfl_loss  Instances       Size\n"
     ]
    },
    {
     "name": "stderr",
     "output_type": "stream",
     "text": [
      "\n",
      "                 Class     Images  Instances      Box(P          R      mAP50  mAP50-95): 100%|██████████| 1/1 [00:02<0"
     ]
    },
    {
     "name": "stdout",
     "output_type": "stream",
     "text": [
      "                   all         23        115      0.516      0.623      0.539      0.304\n"
     ]
    },
    {
     "name": "stderr",
     "output_type": "stream",
     "text": [
      "\n"
     ]
    },
    {
     "name": "stdout",
     "output_type": "stream",
     "text": [
      "\n",
      "      Epoch    GPU_mem   box_loss   cls_loss   dfl_loss  Instances       Size\n"
     ]
    },
    {
     "name": "stderr",
     "output_type": "stream",
     "text": [
      "\n",
      "                 Class     Images  Instances      Box(P          R      mAP50  mAP50-95): 100%|██████████| 1/1 [00:03<0"
     ]
    },
    {
     "name": "stdout",
     "output_type": "stream",
     "text": [
      "                   all         23        115      0.473      0.657      0.532      0.314\n"
     ]
    },
    {
     "name": "stderr",
     "output_type": "stream",
     "text": [
      "\n"
     ]
    },
    {
     "name": "stdout",
     "output_type": "stream",
     "text": [
      "\n",
      "      Epoch    GPU_mem   box_loss   cls_loss   dfl_loss  Instances       Size\n"
     ]
    },
    {
     "name": "stderr",
     "output_type": "stream",
     "text": [
      "\n",
      "                 Class     Images  Instances      Box(P          R      mAP50  mAP50-95): 100%|██████████| 1/1 [00:03<0"
     ]
    },
    {
     "name": "stdout",
     "output_type": "stream",
     "text": [
      "                   all         23        115      0.646      0.564      0.503      0.294\n"
     ]
    },
    {
     "name": "stderr",
     "output_type": "stream",
     "text": [
      "\n"
     ]
    },
    {
     "name": "stdout",
     "output_type": "stream",
     "text": [
      "\n",
      "      Epoch    GPU_mem   box_loss   cls_loss   dfl_loss  Instances       Size\n"
     ]
    },
    {
     "name": "stderr",
     "output_type": "stream",
     "text": [
      "\n",
      "                 Class     Images  Instances      Box(P          R      mAP50  mAP50-95): 100%|██████████| 1/1 [00:03<0"
     ]
    },
    {
     "name": "stdout",
     "output_type": "stream",
     "text": [
      "                   all         23        115      0.732      0.476      0.558       0.34\n"
     ]
    },
    {
     "name": "stderr",
     "output_type": "stream",
     "text": [
      "\n"
     ]
    },
    {
     "name": "stdout",
     "output_type": "stream",
     "text": [
      "\n",
      "      Epoch    GPU_mem   box_loss   cls_loss   dfl_loss  Instances       Size\n"
     ]
    },
    {
     "name": "stderr",
     "output_type": "stream",
     "text": [
      "\n",
      "                 Class     Images  Instances      Box(P          R      mAP50  mAP50-95): 100%|██████████| 1/1 [00:02<0"
     ]
    },
    {
     "name": "stdout",
     "output_type": "stream",
     "text": [
      "                   all         23        115      0.416      0.605      0.532      0.323\n"
     ]
    },
    {
     "name": "stderr",
     "output_type": "stream",
     "text": [
      "\n"
     ]
    },
    {
     "name": "stdout",
     "output_type": "stream",
     "text": [
      "\n",
      "      Epoch    GPU_mem   box_loss   cls_loss   dfl_loss  Instances       Size\n"
     ]
    },
    {
     "name": "stderr",
     "output_type": "stream",
     "text": [
      "\n",
      "                 Class     Images  Instances      Box(P          R      mAP50  mAP50-95): 100%|██████████| 1/1 [00:02<0"
     ]
    },
    {
     "name": "stdout",
     "output_type": "stream",
     "text": [
      "                   all         23        115      0.505      0.557      0.569       0.33\n"
     ]
    },
    {
     "name": "stderr",
     "output_type": "stream",
     "text": [
      "\n"
     ]
    },
    {
     "name": "stdout",
     "output_type": "stream",
     "text": [
      "\n",
      "      Epoch    GPU_mem   box_loss   cls_loss   dfl_loss  Instances       Size\n"
     ]
    },
    {
     "name": "stderr",
     "output_type": "stream",
     "text": [
      "\n",
      "                 Class     Images  Instances      Box(P          R      mAP50  mAP50-95): 100%|██████████| 1/1 [00:02<0"
     ]
    },
    {
     "name": "stdout",
     "output_type": "stream",
     "text": [
      "                   all         23        115      0.722      0.555      0.551      0.335\n"
     ]
    },
    {
     "name": "stderr",
     "output_type": "stream",
     "text": [
      "\n"
     ]
    },
    {
     "name": "stdout",
     "output_type": "stream",
     "text": [
      "\n",
      "      Epoch    GPU_mem   box_loss   cls_loss   dfl_loss  Instances       Size\n"
     ]
    },
    {
     "name": "stderr",
     "output_type": "stream",
     "text": [
      "\n",
      "                 Class     Images  Instances      Box(P          R      mAP50  mAP50-95): 100%|██████████| 1/1 [00:02<0"
     ]
    },
    {
     "name": "stdout",
     "output_type": "stream",
     "text": [
      "                   all         23        115      0.706      0.524      0.523      0.289\n"
     ]
    },
    {
     "name": "stderr",
     "output_type": "stream",
     "text": [
      "\n"
     ]
    },
    {
     "name": "stdout",
     "output_type": "stream",
     "text": [
      "\n",
      "      Epoch    GPU_mem   box_loss   cls_loss   dfl_loss  Instances       Size\n"
     ]
    },
    {
     "name": "stderr",
     "output_type": "stream",
     "text": [
      "\n",
      "                 Class     Images  Instances      Box(P          R      mAP50  mAP50-95): 100%|██████████| 1/1 [00:03<0"
     ]
    },
    {
     "name": "stdout",
     "output_type": "stream",
     "text": [
      "                   all         23        115       0.51      0.537      0.538      0.309\n"
     ]
    },
    {
     "name": "stderr",
     "output_type": "stream",
     "text": [
      "\n"
     ]
    },
    {
     "name": "stdout",
     "output_type": "stream",
     "text": [
      "\n",
      "      Epoch    GPU_mem   box_loss   cls_loss   dfl_loss  Instances       Size\n"
     ]
    },
    {
     "name": "stderr",
     "output_type": "stream",
     "text": [
      "\n",
      "                 Class     Images  Instances      Box(P          R      mAP50  mAP50-95): 100%|██████████| 1/1 [00:02<0"
     ]
    },
    {
     "name": "stdout",
     "output_type": "stream",
     "text": [
      "                   all         23        115      0.472      0.582      0.569      0.347\n"
     ]
    },
    {
     "name": "stderr",
     "output_type": "stream",
     "text": [
      "\n"
     ]
    },
    {
     "name": "stdout",
     "output_type": "stream",
     "text": [
      "\n",
      "      Epoch    GPU_mem   box_loss   cls_loss   dfl_loss  Instances       Size\n"
     ]
    },
    {
     "name": "stderr",
     "output_type": "stream",
     "text": [
      "\n",
      "                 Class     Images  Instances      Box(P          R      mAP50  mAP50-95): 100%|██████████| 1/1 [00:02<0"
     ]
    },
    {
     "name": "stdout",
     "output_type": "stream",
     "text": [
      "                   all         23        115       0.58      0.623      0.625       0.37\n"
     ]
    },
    {
     "name": "stderr",
     "output_type": "stream",
     "text": [
      "\n"
     ]
    },
    {
     "name": "stdout",
     "output_type": "stream",
     "text": [
      "\n",
      "      Epoch    GPU_mem   box_loss   cls_loss   dfl_loss  Instances       Size\n"
     ]
    },
    {
     "name": "stderr",
     "output_type": "stream",
     "text": [
      "\n",
      "                 Class     Images  Instances      Box(P          R      mAP50  mAP50-95): 100%|██████████| 1/1 [00:03<0"
     ]
    },
    {
     "name": "stdout",
     "output_type": "stream",
     "text": [
      "                   all         23        115      0.764      0.639      0.669      0.397\n"
     ]
    },
    {
     "name": "stderr",
     "output_type": "stream",
     "text": [
      "\n"
     ]
    },
    {
     "name": "stdout",
     "output_type": "stream",
     "text": [
      "\n",
      "      Epoch    GPU_mem   box_loss   cls_loss   dfl_loss  Instances       Size\n"
     ]
    },
    {
     "name": "stderr",
     "output_type": "stream",
     "text": [
      "\n",
      "                 Class     Images  Instances      Box(P          R      mAP50  mAP50-95): 100%|██████████| 1/1 [00:02<0"
     ]
    },
    {
     "name": "stdout",
     "output_type": "stream",
     "text": [
      "                   all         23        115      0.499      0.695      0.604      0.354\n"
     ]
    },
    {
     "name": "stderr",
     "output_type": "stream",
     "text": [
      "\n"
     ]
    },
    {
     "name": "stdout",
     "output_type": "stream",
     "text": [
      "\n",
      "      Epoch    GPU_mem   box_loss   cls_loss   dfl_loss  Instances       Size\n"
     ]
    },
    {
     "name": "stderr",
     "output_type": "stream",
     "text": [
      "\n",
      "                 Class     Images  Instances      Box(P          R      mAP50  mAP50-95): 100%|██████████| 1/1 [00:03<0"
     ]
    },
    {
     "name": "stdout",
     "output_type": "stream",
     "text": [
      "                   all         23        115      0.664      0.625      0.631      0.372\n"
     ]
    },
    {
     "name": "stderr",
     "output_type": "stream",
     "text": [
      "\n"
     ]
    },
    {
     "name": "stdout",
     "output_type": "stream",
     "text": [
      "\n",
      "      Epoch    GPU_mem   box_loss   cls_loss   dfl_loss  Instances       Size\n"
     ]
    },
    {
     "name": "stderr",
     "output_type": "stream",
     "text": [
      "\n",
      "                 Class     Images  Instances      Box(P          R      mAP50  mAP50-95): 100%|██████████| 1/1 [00:02<0"
     ]
    },
    {
     "name": "stdout",
     "output_type": "stream",
     "text": [
      "                   all         23        115        0.5       0.62      0.592      0.362\n"
     ]
    },
    {
     "name": "stderr",
     "output_type": "stream",
     "text": [
      "\n"
     ]
    },
    {
     "name": "stdout",
     "output_type": "stream",
     "text": [
      "\n",
      "      Epoch    GPU_mem   box_loss   cls_loss   dfl_loss  Instances       Size\n"
     ]
    },
    {
     "name": "stderr",
     "output_type": "stream",
     "text": [
      "\n",
      "                 Class     Images  Instances      Box(P          R      mAP50  mAP50-95): 100%|██████████| 1/1 [00:02<0"
     ]
    },
    {
     "name": "stdout",
     "output_type": "stream",
     "text": [
      "                   all         23        115      0.545      0.766      0.643      0.375\n"
     ]
    },
    {
     "name": "stderr",
     "output_type": "stream",
     "text": [
      "\n"
     ]
    },
    {
     "name": "stdout",
     "output_type": "stream",
     "text": [
      "\n",
      "      Epoch    GPU_mem   box_loss   cls_loss   dfl_loss  Instances       Size\n"
     ]
    },
    {
     "name": "stderr",
     "output_type": "stream",
     "text": [
      "\n",
      "                 Class     Images  Instances      Box(P          R      mAP50  mAP50-95): 100%|██████████| 1/1 [00:02<0"
     ]
    },
    {
     "name": "stdout",
     "output_type": "stream",
     "text": [
      "                   all         23        115      0.745      0.544      0.651      0.397\n"
     ]
    },
    {
     "name": "stderr",
     "output_type": "stream",
     "text": [
      "\n"
     ]
    },
    {
     "name": "stdout",
     "output_type": "stream",
     "text": [
      "\n",
      "      Epoch    GPU_mem   box_loss   cls_loss   dfl_loss  Instances       Size\n"
     ]
    },
    {
     "name": "stderr",
     "output_type": "stream",
     "text": [
      "\n",
      "                 Class     Images  Instances      Box(P          R      mAP50  mAP50-95): 100%|██████████| 1/1 [00:02<0"
     ]
    },
    {
     "name": "stdout",
     "output_type": "stream",
     "text": [
      "                   all         23        115      0.701       0.61      0.694      0.407\n"
     ]
    },
    {
     "name": "stderr",
     "output_type": "stream",
     "text": [
      "\n"
     ]
    },
    {
     "name": "stdout",
     "output_type": "stream",
     "text": [
      "\n",
      "      Epoch    GPU_mem   box_loss   cls_loss   dfl_loss  Instances       Size\n"
     ]
    },
    {
     "name": "stderr",
     "output_type": "stream",
     "text": [
      "\n",
      "                 Class     Images  Instances      Box(P          R      mAP50  mAP50-95): 100%|██████████| 1/1 [00:02<0"
     ]
    },
    {
     "name": "stdout",
     "output_type": "stream",
     "text": [
      "                   all         23        115      0.693       0.64       0.67      0.431\n"
     ]
    },
    {
     "name": "stderr",
     "output_type": "stream",
     "text": [
      "\n"
     ]
    },
    {
     "name": "stdout",
     "output_type": "stream",
     "text": [
      "\n",
      "      Epoch    GPU_mem   box_loss   cls_loss   dfl_loss  Instances       Size\n"
     ]
    },
    {
     "name": "stderr",
     "output_type": "stream",
     "text": [
      "\n",
      "                 Class     Images  Instances      Box(P          R      mAP50  mAP50-95): 100%|██████████| 1/1 [00:02<0"
     ]
    },
    {
     "name": "stdout",
     "output_type": "stream",
     "text": [
      "                   all         23        115      0.694       0.53      0.655      0.402\n"
     ]
    },
    {
     "name": "stderr",
     "output_type": "stream",
     "text": [
      "\n"
     ]
    },
    {
     "name": "stdout",
     "output_type": "stream",
     "text": [
      "\n",
      "      Epoch    GPU_mem   box_loss   cls_loss   dfl_loss  Instances       Size\n"
     ]
    },
    {
     "name": "stderr",
     "output_type": "stream",
     "text": [
      "\n",
      "                 Class     Images  Instances      Box(P          R      mAP50  mAP50-95): 100%|██████████| 1/1 [00:02<0"
     ]
    },
    {
     "name": "stdout",
     "output_type": "stream",
     "text": [
      "                   all         23        115      0.783      0.556      0.658      0.404\n"
     ]
    },
    {
     "name": "stderr",
     "output_type": "stream",
     "text": [
      "\n"
     ]
    },
    {
     "name": "stdout",
     "output_type": "stream",
     "text": [
      "\n",
      "      Epoch    GPU_mem   box_loss   cls_loss   dfl_loss  Instances       Size\n"
     ]
    },
    {
     "name": "stderr",
     "output_type": "stream",
     "text": [
      "\n",
      "                 Class     Images  Instances      Box(P          R      mAP50  mAP50-95): 100%|██████████| 1/1 [00:03<0"
     ]
    },
    {
     "name": "stdout",
     "output_type": "stream",
     "text": [
      "                   all         23        115      0.712      0.601      0.664      0.403\n"
     ]
    },
    {
     "name": "stderr",
     "output_type": "stream",
     "text": [
      "\n"
     ]
    },
    {
     "name": "stdout",
     "output_type": "stream",
     "text": [
      "\n",
      "      Epoch    GPU_mem   box_loss   cls_loss   dfl_loss  Instances       Size\n"
     ]
    },
    {
     "name": "stderr",
     "output_type": "stream",
     "text": [
      "\n",
      "                 Class     Images  Instances      Box(P          R      mAP50  mAP50-95): 100%|██████████| 1/1 [00:03<0"
     ]
    },
    {
     "name": "stdout",
     "output_type": "stream",
     "text": [
      "                   all         23        115      0.654       0.57      0.649      0.398\n"
     ]
    },
    {
     "name": "stderr",
     "output_type": "stream",
     "text": [
      "\n"
     ]
    },
    {
     "name": "stdout",
     "output_type": "stream",
     "text": [
      "\n",
      "      Epoch    GPU_mem   box_loss   cls_loss   dfl_loss  Instances       Size\n"
     ]
    },
    {
     "name": "stderr",
     "output_type": "stream",
     "text": [
      "\n",
      "                 Class     Images  Instances      Box(P          R      mAP50  mAP50-95): 100%|██████████| 1/1 [00:03<0"
     ]
    },
    {
     "name": "stdout",
     "output_type": "stream",
     "text": [
      "                   all         23        115      0.705      0.648      0.752      0.454\n"
     ]
    },
    {
     "name": "stderr",
     "output_type": "stream",
     "text": [
      "\n"
     ]
    },
    {
     "name": "stdout",
     "output_type": "stream",
     "text": [
      "\n",
      "      Epoch    GPU_mem   box_loss   cls_loss   dfl_loss  Instances       Size\n"
     ]
    },
    {
     "name": "stderr",
     "output_type": "stream",
     "text": [
      "\n",
      "                 Class     Images  Instances      Box(P          R      mAP50  mAP50-95): 100%|██████████| 1/1 [00:03<0"
     ]
    },
    {
     "name": "stdout",
     "output_type": "stream",
     "text": [
      "                   all         23        115      0.675      0.621      0.696      0.432\n"
     ]
    },
    {
     "name": "stderr",
     "output_type": "stream",
     "text": [
      "\n"
     ]
    },
    {
     "name": "stdout",
     "output_type": "stream",
     "text": [
      "\n",
      "      Epoch    GPU_mem   box_loss   cls_loss   dfl_loss  Instances       Size\n"
     ]
    },
    {
     "name": "stderr",
     "output_type": "stream",
     "text": [
      "\n",
      "                 Class     Images  Instances      Box(P          R      mAP50  mAP50-95): 100%|██████████| 1/1 [00:02<0"
     ]
    },
    {
     "name": "stdout",
     "output_type": "stream",
     "text": [
      "                   all         23        115      0.562      0.685      0.675      0.411\n"
     ]
    },
    {
     "name": "stderr",
     "output_type": "stream",
     "text": [
      "\n"
     ]
    },
    {
     "name": "stdout",
     "output_type": "stream",
     "text": [
      "\n",
      "      Epoch    GPU_mem   box_loss   cls_loss   dfl_loss  Instances       Size\n"
     ]
    },
    {
     "name": "stderr",
     "output_type": "stream",
     "text": [
      "\n",
      "                 Class     Images  Instances      Box(P          R      mAP50  mAP50-95): 100%|██████████| 1/1 [00:02<0"
     ]
    },
    {
     "name": "stdout",
     "output_type": "stream",
     "text": [
      "                   all         23        115      0.685      0.591      0.653      0.412\n"
     ]
    },
    {
     "name": "stderr",
     "output_type": "stream",
     "text": [
      "\n"
     ]
    },
    {
     "name": "stdout",
     "output_type": "stream",
     "text": [
      "\n",
      "      Epoch    GPU_mem   box_loss   cls_loss   dfl_loss  Instances       Size\n"
     ]
    },
    {
     "name": "stderr",
     "output_type": "stream",
     "text": [
      "\n",
      "                 Class     Images  Instances      Box(P          R      mAP50  mAP50-95): 100%|██████████| 1/1 [00:03<0"
     ]
    },
    {
     "name": "stdout",
     "output_type": "stream",
     "text": [
      "                   all         23        115      0.723      0.782      0.785      0.507\n"
     ]
    },
    {
     "name": "stderr",
     "output_type": "stream",
     "text": [
      "\n"
     ]
    },
    {
     "name": "stdout",
     "output_type": "stream",
     "text": [
      "\n",
      "      Epoch    GPU_mem   box_loss   cls_loss   dfl_loss  Instances       Size\n"
     ]
    },
    {
     "name": "stderr",
     "output_type": "stream",
     "text": [
      "\n",
      "                 Class     Images  Instances      Box(P          R      mAP50  mAP50-95): 100%|██████████| 1/1 [00:02<0"
     ]
    },
    {
     "name": "stdout",
     "output_type": "stream",
     "text": [
      "                   all         23        115       0.71      0.694      0.707      0.444\n"
     ]
    },
    {
     "name": "stderr",
     "output_type": "stream",
     "text": [
      "\n"
     ]
    },
    {
     "name": "stdout",
     "output_type": "stream",
     "text": [
      "\n",
      "      Epoch    GPU_mem   box_loss   cls_loss   dfl_loss  Instances       Size\n"
     ]
    },
    {
     "name": "stderr",
     "output_type": "stream",
     "text": [
      "\n",
      "                 Class     Images  Instances      Box(P          R      mAP50  mAP50-95): 100%|██████████| 1/1 [00:02<0"
     ]
    },
    {
     "name": "stdout",
     "output_type": "stream",
     "text": [
      "                   all         23        115      0.735      0.652      0.706      0.462\n"
     ]
    },
    {
     "name": "stderr",
     "output_type": "stream",
     "text": [
      "\n"
     ]
    },
    {
     "name": "stdout",
     "output_type": "stream",
     "text": [
      "\n",
      "      Epoch    GPU_mem   box_loss   cls_loss   dfl_loss  Instances       Size\n"
     ]
    },
    {
     "name": "stderr",
     "output_type": "stream",
     "text": [
      "\n",
      "                 Class     Images  Instances      Box(P          R      mAP50  mAP50-95): 100%|██████████| 1/1 [00:03<0"
     ]
    },
    {
     "name": "stdout",
     "output_type": "stream",
     "text": [
      "                   all         23        115       0.64      0.796      0.784      0.481\n"
     ]
    },
    {
     "name": "stderr",
     "output_type": "stream",
     "text": [
      "\n"
     ]
    },
    {
     "name": "stdout",
     "output_type": "stream",
     "text": [
      "\n",
      "      Epoch    GPU_mem   box_loss   cls_loss   dfl_loss  Instances       Size\n"
     ]
    },
    {
     "name": "stderr",
     "output_type": "stream",
     "text": [
      "\n",
      "                 Class     Images  Instances      Box(P          R      mAP50  mAP50-95): 100%|██████████| 1/1 [00:02<0"
     ]
    },
    {
     "name": "stdout",
     "output_type": "stream",
     "text": [
      "                   all         23        115      0.757      0.606      0.736      0.453\n"
     ]
    },
    {
     "name": "stderr",
     "output_type": "stream",
     "text": [
      "\n"
     ]
    },
    {
     "name": "stdout",
     "output_type": "stream",
     "text": [
      "\n",
      "      Epoch    GPU_mem   box_loss   cls_loss   dfl_loss  Instances       Size\n"
     ]
    },
    {
     "name": "stderr",
     "output_type": "stream",
     "text": [
      "\n",
      "                 Class     Images  Instances      Box(P          R      mAP50  mAP50-95): 100%|██████████| 1/1 [00:02<0"
     ]
    },
    {
     "name": "stdout",
     "output_type": "stream",
     "text": [
      "                   all         23        115      0.742      0.653       0.73      0.444\n"
     ]
    },
    {
     "name": "stderr",
     "output_type": "stream",
     "text": [
      "\n"
     ]
    },
    {
     "name": "stdout",
     "output_type": "stream",
     "text": [
      "\n",
      "      Epoch    GPU_mem   box_loss   cls_loss   dfl_loss  Instances       Size\n"
     ]
    },
    {
     "name": "stderr",
     "output_type": "stream",
     "text": [
      "\n",
      "                 Class     Images  Instances      Box(P          R      mAP50  mAP50-95): 100%|██████████| 1/1 [00:02<0"
     ]
    },
    {
     "name": "stdout",
     "output_type": "stream",
     "text": [
      "                   all         23        115      0.738       0.69      0.756      0.458\n"
     ]
    },
    {
     "name": "stderr",
     "output_type": "stream",
     "text": [
      "\n"
     ]
    },
    {
     "name": "stdout",
     "output_type": "stream",
     "text": [
      "\n",
      "      Epoch    GPU_mem   box_loss   cls_loss   dfl_loss  Instances       Size\n"
     ]
    },
    {
     "name": "stderr",
     "output_type": "stream",
     "text": [
      "\n",
      "                 Class     Images  Instances      Box(P          R      mAP50  mAP50-95): 100%|██████████| 1/1 [00:02<0"
     ]
    },
    {
     "name": "stdout",
     "output_type": "stream",
     "text": [
      "                   all         23        115      0.744      0.624      0.765      0.482\n"
     ]
    },
    {
     "name": "stderr",
     "output_type": "stream",
     "text": [
      "\n"
     ]
    },
    {
     "name": "stdout",
     "output_type": "stream",
     "text": [
      "\n",
      "      Epoch    GPU_mem   box_loss   cls_loss   dfl_loss  Instances       Size\n"
     ]
    },
    {
     "name": "stderr",
     "output_type": "stream",
     "text": [
      "\n",
      "                 Class     Images  Instances      Box(P          R      mAP50  mAP50-95): 100%|██████████| 1/1 [00:02<0"
     ]
    },
    {
     "name": "stdout",
     "output_type": "stream",
     "text": [
      "                   all         23        115      0.766      0.702      0.776      0.489\n"
     ]
    },
    {
     "name": "stderr",
     "output_type": "stream",
     "text": [
      "\n"
     ]
    },
    {
     "name": "stdout",
     "output_type": "stream",
     "text": [
      "\n",
      "      Epoch    GPU_mem   box_loss   cls_loss   dfl_loss  Instances       Size\n"
     ]
    },
    {
     "name": "stderr",
     "output_type": "stream",
     "text": [
      "\n",
      "                 Class     Images  Instances      Box(P          R      mAP50  mAP50-95): 100%|██████████| 1/1 [00:02<0"
     ]
    },
    {
     "name": "stdout",
     "output_type": "stream",
     "text": [
      "                   all         23        115      0.639      0.741       0.79      0.504\n"
     ]
    },
    {
     "name": "stderr",
     "output_type": "stream",
     "text": [
      "\n"
     ]
    },
    {
     "name": "stdout",
     "output_type": "stream",
     "text": [
      "\n",
      "      Epoch    GPU_mem   box_loss   cls_loss   dfl_loss  Instances       Size\n"
     ]
    },
    {
     "name": "stderr",
     "output_type": "stream",
     "text": [
      "\n",
      "                 Class     Images  Instances      Box(P          R      mAP50  mAP50-95): 100%|██████████| 1/1 [00:02<0"
     ]
    },
    {
     "name": "stdout",
     "output_type": "stream",
     "text": [
      "                   all         23        115      0.665      0.789      0.788      0.489\n"
     ]
    },
    {
     "name": "stderr",
     "output_type": "stream",
     "text": [
      "\n"
     ]
    },
    {
     "name": "stdout",
     "output_type": "stream",
     "text": [
      "\n",
      "      Epoch    GPU_mem   box_loss   cls_loss   dfl_loss  Instances       Size\n"
     ]
    },
    {
     "name": "stderr",
     "output_type": "stream",
     "text": [
      "\n",
      "                 Class     Images  Instances      Box(P          R      mAP50  mAP50-95): 100%|██████████| 1/1 [00:02<0"
     ]
    },
    {
     "name": "stdout",
     "output_type": "stream",
     "text": [
      "                   all         23        115      0.776      0.625       0.78       0.48\n"
     ]
    },
    {
     "name": "stderr",
     "output_type": "stream",
     "text": [
      "\n"
     ]
    },
    {
     "name": "stdout",
     "output_type": "stream",
     "text": [
      "\n",
      "      Epoch    GPU_mem   box_loss   cls_loss   dfl_loss  Instances       Size\n"
     ]
    },
    {
     "name": "stderr",
     "output_type": "stream",
     "text": [
      "\n",
      "                 Class     Images  Instances      Box(P          R      mAP50  mAP50-95): 100%|██████████| 1/1 [00:02<0"
     ]
    },
    {
     "name": "stdout",
     "output_type": "stream",
     "text": [
      "                   all         23        115      0.709      0.705      0.776       0.49\n"
     ]
    },
    {
     "name": "stderr",
     "output_type": "stream",
     "text": [
      "\n"
     ]
    },
    {
     "name": "stdout",
     "output_type": "stream",
     "text": [
      "\n",
      "      Epoch    GPU_mem   box_loss   cls_loss   dfl_loss  Instances       Size\n"
     ]
    },
    {
     "name": "stderr",
     "output_type": "stream",
     "text": [
      "\n",
      "                 Class     Images  Instances      Box(P          R      mAP50  mAP50-95): 100%|██████████| 1/1 [00:02<0"
     ]
    },
    {
     "name": "stdout",
     "output_type": "stream",
     "text": [
      "                   all         23        115      0.707      0.775      0.796      0.496\n"
     ]
    },
    {
     "name": "stderr",
     "output_type": "stream",
     "text": [
      "\n"
     ]
    },
    {
     "name": "stdout",
     "output_type": "stream",
     "text": [
      "\n",
      "      Epoch    GPU_mem   box_loss   cls_loss   dfl_loss  Instances       Size\n"
     ]
    },
    {
     "name": "stderr",
     "output_type": "stream",
     "text": [
      "\n",
      "                 Class     Images  Instances      Box(P          R      mAP50  mAP50-95): 100%|██████████| 1/1 [00:02<0"
     ]
    },
    {
     "name": "stdout",
     "output_type": "stream",
     "text": [
      "                   all         23        115      0.761      0.697      0.777      0.481\n"
     ]
    },
    {
     "name": "stderr",
     "output_type": "stream",
     "text": [
      "\n"
     ]
    },
    {
     "name": "stdout",
     "output_type": "stream",
     "text": [
      "\n",
      "      Epoch    GPU_mem   box_loss   cls_loss   dfl_loss  Instances       Size\n"
     ]
    },
    {
     "name": "stderr",
     "output_type": "stream",
     "text": [
      "\n",
      "                 Class     Images  Instances      Box(P          R      mAP50  mAP50-95): 100%|██████████| 1/1 [00:03<0"
     ]
    },
    {
     "name": "stdout",
     "output_type": "stream",
     "text": [
      "                   all         23        115      0.689      0.739      0.768      0.487\n"
     ]
    },
    {
     "name": "stderr",
     "output_type": "stream",
     "text": [
      "\n"
     ]
    },
    {
     "name": "stdout",
     "output_type": "stream",
     "text": [
      "\n",
      "      Epoch    GPU_mem   box_loss   cls_loss   dfl_loss  Instances       Size\n"
     ]
    },
    {
     "name": "stderr",
     "output_type": "stream",
     "text": [
      "\n",
      "                 Class     Images  Instances      Box(P          R      mAP50  mAP50-95): 100%|██████████| 1/1 [00:02<0"
     ]
    },
    {
     "name": "stdout",
     "output_type": "stream",
     "text": [
      "                   all         23        115       0.79      0.687      0.775      0.488\n"
     ]
    },
    {
     "name": "stderr",
     "output_type": "stream",
     "text": [
      "\n"
     ]
    },
    {
     "name": "stdout",
     "output_type": "stream",
     "text": [
      "\n",
      "      Epoch    GPU_mem   box_loss   cls_loss   dfl_loss  Instances       Size\n"
     ]
    },
    {
     "name": "stderr",
     "output_type": "stream",
     "text": [
      "\n",
      "                 Class     Images  Instances      Box(P          R      mAP50  mAP50-95): 100%|██████████| 1/1 [00:02<0"
     ]
    },
    {
     "name": "stdout",
     "output_type": "stream",
     "text": [
      "                   all         23        115      0.745      0.745      0.763      0.492\n"
     ]
    },
    {
     "name": "stderr",
     "output_type": "stream",
     "text": [
      "\n"
     ]
    },
    {
     "name": "stdout",
     "output_type": "stream",
     "text": [
      "\n",
      "      Epoch    GPU_mem   box_loss   cls_loss   dfl_loss  Instances       Size\n"
     ]
    },
    {
     "name": "stderr",
     "output_type": "stream",
     "text": [
      "\n",
      "                 Class     Images  Instances      Box(P          R      mAP50  mAP50-95): 100%|██████████| 1/1 [00:02<0"
     ]
    },
    {
     "name": "stdout",
     "output_type": "stream",
     "text": [
      "                   all         23        115      0.788      0.748      0.785      0.497\n"
     ]
    },
    {
     "name": "stderr",
     "output_type": "stream",
     "text": [
      "\n"
     ]
    },
    {
     "name": "stdout",
     "output_type": "stream",
     "text": [
      "\n",
      "      Epoch    GPU_mem   box_loss   cls_loss   dfl_loss  Instances       Size\n"
     ]
    },
    {
     "name": "stderr",
     "output_type": "stream",
     "text": [
      "\n",
      "                 Class     Images  Instances      Box(P          R      mAP50  mAP50-95): 100%|██████████| 1/1 [00:03<0"
     ]
    },
    {
     "name": "stdout",
     "output_type": "stream",
     "text": [
      "                   all         23        115      0.732      0.687       0.76      0.485\n"
     ]
    },
    {
     "name": "stderr",
     "output_type": "stream",
     "text": [
      "\n"
     ]
    },
    {
     "name": "stdout",
     "output_type": "stream",
     "text": [
      "\n",
      "      Epoch    GPU_mem   box_loss   cls_loss   dfl_loss  Instances       Size\n"
     ]
    },
    {
     "name": "stderr",
     "output_type": "stream",
     "text": [
      "\n",
      "                 Class     Images  Instances      Box(P          R      mAP50  mAP50-95): 100%|██████████| 1/1 [00:02<0"
     ]
    },
    {
     "name": "stdout",
     "output_type": "stream",
     "text": [
      "                   all         23        115      0.763      0.737      0.786      0.488\n"
     ]
    },
    {
     "name": "stderr",
     "output_type": "stream",
     "text": [
      "\n"
     ]
    },
    {
     "name": "stdout",
     "output_type": "stream",
     "text": [
      "\n",
      "      Epoch    GPU_mem   box_loss   cls_loss   dfl_loss  Instances       Size\n"
     ]
    },
    {
     "name": "stderr",
     "output_type": "stream",
     "text": [
      "\n",
      "                 Class     Images  Instances      Box(P          R      mAP50  mAP50-95): 100%|██████████| 1/1 [00:02<0"
     ]
    },
    {
     "name": "stdout",
     "output_type": "stream",
     "text": [
      "                   all         23        115      0.726      0.767      0.781       0.49\n"
     ]
    },
    {
     "name": "stderr",
     "output_type": "stream",
     "text": [
      "\n"
     ]
    },
    {
     "name": "stdout",
     "output_type": "stream",
     "text": [
      "\n",
      "      Epoch    GPU_mem   box_loss   cls_loss   dfl_loss  Instances       Size\n"
     ]
    },
    {
     "name": "stderr",
     "output_type": "stream",
     "text": [
      "\n",
      "                 Class     Images  Instances      Box(P          R      mAP50  mAP50-95): 100%|██████████| 1/1 [00:02<0"
     ]
    },
    {
     "name": "stdout",
     "output_type": "stream",
     "text": [
      "                   all         23        115       0.72      0.777      0.797      0.513\n"
     ]
    },
    {
     "name": "stderr",
     "output_type": "stream",
     "text": [
      "\n"
     ]
    },
    {
     "name": "stdout",
     "output_type": "stream",
     "text": [
      "\n",
      "      Epoch    GPU_mem   box_loss   cls_loss   dfl_loss  Instances       Size\n"
     ]
    },
    {
     "name": "stderr",
     "output_type": "stream",
     "text": [
      "\n",
      "                 Class     Images  Instances      Box(P          R      mAP50  mAP50-95): 100%|██████████| 1/1 [00:02<0"
     ]
    },
    {
     "name": "stdout",
     "output_type": "stream",
     "text": [
      "                   all         23        115      0.804      0.701      0.799      0.518\n"
     ]
    },
    {
     "name": "stderr",
     "output_type": "stream",
     "text": [
      "\n"
     ]
    },
    {
     "name": "stdout",
     "output_type": "stream",
     "text": [
      "\n",
      "      Epoch    GPU_mem   box_loss   cls_loss   dfl_loss  Instances       Size\n"
     ]
    },
    {
     "name": "stderr",
     "output_type": "stream",
     "text": [
      "\n",
      "                 Class     Images  Instances      Box(P          R      mAP50  mAP50-95): 100%|██████████| 1/1 [00:02<0"
     ]
    },
    {
     "name": "stdout",
     "output_type": "stream",
     "text": [
      "                   all         23        115      0.789      0.732      0.802      0.515\n"
     ]
    },
    {
     "name": "stderr",
     "output_type": "stream",
     "text": [
      "\n"
     ]
    },
    {
     "name": "stdout",
     "output_type": "stream",
     "text": [
      "\n",
      "      Epoch    GPU_mem   box_loss   cls_loss   dfl_loss  Instances       Size\n"
     ]
    },
    {
     "name": "stderr",
     "output_type": "stream",
     "text": [
      "\n",
      "                 Class     Images  Instances      Box(P          R      mAP50  mAP50-95): 100%|██████████| 1/1 [00:02<0"
     ]
    },
    {
     "name": "stdout",
     "output_type": "stream",
     "text": [
      "                   all         23        115      0.701       0.77      0.773      0.505\n"
     ]
    },
    {
     "name": "stderr",
     "output_type": "stream",
     "text": [
      "\n"
     ]
    },
    {
     "name": "stdout",
     "output_type": "stream",
     "text": [
      "\n",
      "      Epoch    GPU_mem   box_loss   cls_loss   dfl_loss  Instances       Size\n"
     ]
    },
    {
     "name": "stderr",
     "output_type": "stream",
     "text": [
      "\n",
      "                 Class     Images  Instances      Box(P          R      mAP50  mAP50-95): 100%|██████████| 1/1 [00:02<0"
     ]
    },
    {
     "name": "stdout",
     "output_type": "stream",
     "text": [
      "                   all         23        115      0.789      0.642      0.762      0.487\n"
     ]
    },
    {
     "name": "stderr",
     "output_type": "stream",
     "text": [
      "\n"
     ]
    },
    {
     "name": "stdout",
     "output_type": "stream",
     "text": [
      "\n",
      "      Epoch    GPU_mem   box_loss   cls_loss   dfl_loss  Instances       Size\n"
     ]
    },
    {
     "name": "stderr",
     "output_type": "stream",
     "text": [
      "\n",
      "                 Class     Images  Instances      Box(P          R      mAP50  mAP50-95): 100%|██████████| 1/1 [00:02<0"
     ]
    },
    {
     "name": "stdout",
     "output_type": "stream",
     "text": [
      "                   all         23        115      0.718      0.813      0.793      0.503\n"
     ]
    },
    {
     "name": "stderr",
     "output_type": "stream",
     "text": [
      "\n"
     ]
    },
    {
     "name": "stdout",
     "output_type": "stream",
     "text": [
      "\n",
      "      Epoch    GPU_mem   box_loss   cls_loss   dfl_loss  Instances       Size\n"
     ]
    },
    {
     "name": "stderr",
     "output_type": "stream",
     "text": [
      "\n",
      "                 Class     Images  Instances      Box(P          R      mAP50  mAP50-95): 100%|██████████| 1/1 [00:02<0"
     ]
    },
    {
     "name": "stdout",
     "output_type": "stream",
     "text": [
      "                   all         23        115      0.799      0.736      0.808      0.517\n"
     ]
    },
    {
     "name": "stderr",
     "output_type": "stream",
     "text": [
      "\n"
     ]
    },
    {
     "name": "stdout",
     "output_type": "stream",
     "text": [
      "Closing dataloader mosaic\n",
      "\u001b[34m\u001b[1malbumentations: \u001b[0mBlur(p=0.01, blur_limit=(3, 7)), MedianBlur(p=0.01, blur_limit=(3, 7)), ToGray(p=0.01, num_output_channels=3, method='weighted_average'), CLAHE(p=0.01, clip_limit=(1.0, 4.0), tile_grid_size=(8, 8))\n",
      "\n",
      "      Epoch    GPU_mem   box_loss   cls_loss   dfl_loss  Instances       Size\n"
     ]
    },
    {
     "name": "stderr",
     "output_type": "stream",
     "text": [
      "\n",
      "                 Class     Images  Instances      Box(P          R      mAP50  mAP50-95): 100%|██████████| 1/1 [00:02<0"
     ]
    },
    {
     "name": "stdout",
     "output_type": "stream",
     "text": [
      "                   all         23        115      0.829      0.699      0.785      0.477\n"
     ]
    },
    {
     "name": "stderr",
     "output_type": "stream",
     "text": [
      "\n"
     ]
    },
    {
     "name": "stdout",
     "output_type": "stream",
     "text": [
      "\n",
      "      Epoch    GPU_mem   box_loss   cls_loss   dfl_loss  Instances       Size\n"
     ]
    },
    {
     "name": "stderr",
     "output_type": "stream",
     "text": [
      "\n",
      "                 Class     Images  Instances      Box(P          R      mAP50  mAP50-95): 100%|██████████| 1/1 [00:02<0"
     ]
    },
    {
     "name": "stdout",
     "output_type": "stream",
     "text": [
      "                   all         23        115      0.793       0.71      0.753      0.461\n"
     ]
    },
    {
     "name": "stderr",
     "output_type": "stream",
     "text": [
      "\n"
     ]
    },
    {
     "name": "stdout",
     "output_type": "stream",
     "text": [
      "\n",
      "      Epoch    GPU_mem   box_loss   cls_loss   dfl_loss  Instances       Size\n"
     ]
    },
    {
     "name": "stderr",
     "output_type": "stream",
     "text": [
      "\n",
      "                 Class     Images  Instances      Box(P          R      mAP50  mAP50-95): 100%|██████████| 1/1 [00:02<0"
     ]
    },
    {
     "name": "stdout",
     "output_type": "stream",
     "text": [
      "                   all         23        115      0.794      0.699      0.751      0.448\n"
     ]
    },
    {
     "name": "stderr",
     "output_type": "stream",
     "text": [
      "\n"
     ]
    },
    {
     "name": "stdout",
     "output_type": "stream",
     "text": [
      "\n",
      "      Epoch    GPU_mem   box_loss   cls_loss   dfl_loss  Instances       Size\n"
     ]
    },
    {
     "name": "stderr",
     "output_type": "stream",
     "text": [
      "\n",
      "                 Class     Images  Instances      Box(P          R      mAP50  mAP50-95): 100%|██████████| 1/1 [00:03<0"
     ]
    },
    {
     "name": "stdout",
     "output_type": "stream",
     "text": [
      "                   all         23        115      0.786      0.733      0.807      0.496\n"
     ]
    },
    {
     "name": "stderr",
     "output_type": "stream",
     "text": [
      "\n"
     ]
    },
    {
     "name": "stdout",
     "output_type": "stream",
     "text": [
      "\n",
      "      Epoch    GPU_mem   box_loss   cls_loss   dfl_loss  Instances       Size\n"
     ]
    },
    {
     "name": "stderr",
     "output_type": "stream",
     "text": [
      "\n",
      "                 Class     Images  Instances      Box(P          R      mAP50  mAP50-95): 100%|██████████| 1/1 [00:02<0"
     ]
    },
    {
     "name": "stdout",
     "output_type": "stream",
     "text": [
      "                   all         23        115      0.786      0.731      0.805      0.499\n"
     ]
    },
    {
     "name": "stderr",
     "output_type": "stream",
     "text": [
      "\n"
     ]
    },
    {
     "name": "stdout",
     "output_type": "stream",
     "text": [
      "\n",
      "      Epoch    GPU_mem   box_loss   cls_loss   dfl_loss  Instances       Size\n"
     ]
    },
    {
     "name": "stderr",
     "output_type": "stream",
     "text": [
      "\n",
      "                 Class     Images  Instances      Box(P          R      mAP50  mAP50-95): 100%|██████████| 1/1 [00:02<0"
     ]
    },
    {
     "name": "stdout",
     "output_type": "stream",
     "text": [
      "                   all         23        115      0.795      0.708      0.809      0.497\n"
     ]
    },
    {
     "name": "stderr",
     "output_type": "stream",
     "text": [
      "\n"
     ]
    },
    {
     "name": "stdout",
     "output_type": "stream",
     "text": [
      "\n",
      "      Epoch    GPU_mem   box_loss   cls_loss   dfl_loss  Instances       Size\n"
     ]
    },
    {
     "name": "stderr",
     "output_type": "stream",
     "text": [
      "\n",
      "                 Class     Images  Instances      Box(P          R      mAP50  mAP50-95): 100%|██████████| 1/1 [00:02<0"
     ]
    },
    {
     "name": "stdout",
     "output_type": "stream",
     "text": [
      "                   all         23        115      0.824      0.685      0.817      0.497\n"
     ]
    },
    {
     "name": "stderr",
     "output_type": "stream",
     "text": [
      "\n"
     ]
    },
    {
     "name": "stdout",
     "output_type": "stream",
     "text": [
      "\n",
      "      Epoch    GPU_mem   box_loss   cls_loss   dfl_loss  Instances       Size\n"
     ]
    },
    {
     "name": "stderr",
     "output_type": "stream",
     "text": [
      "\n",
      "                 Class     Images  Instances      Box(P          R      mAP50  mAP50-95): 100%|██████████| 1/1 [00:02<0"
     ]
    },
    {
     "name": "stdout",
     "output_type": "stream",
     "text": [
      "                   all         23        115      0.744      0.751      0.809      0.495\n"
     ]
    },
    {
     "name": "stderr",
     "output_type": "stream",
     "text": [
      "\n"
     ]
    },
    {
     "name": "stdout",
     "output_type": "stream",
     "text": [
      "\n",
      "      Epoch    GPU_mem   box_loss   cls_loss   dfl_loss  Instances       Size\n"
     ]
    },
    {
     "name": "stderr",
     "output_type": "stream",
     "text": [
      "\n",
      "                 Class     Images  Instances      Box(P          R      mAP50  mAP50-95): 100%|██████████| 1/1 [00:02<0"
     ]
    },
    {
     "name": "stdout",
     "output_type": "stream",
     "text": [
      "                   all         23        115      0.752      0.742      0.812      0.489\n"
     ]
    },
    {
     "name": "stderr",
     "output_type": "stream",
     "text": [
      "\n"
     ]
    },
    {
     "name": "stdout",
     "output_type": "stream",
     "text": [
      "\n",
      "      Epoch    GPU_mem   box_loss   cls_loss   dfl_loss  Instances       Size\n"
     ]
    },
    {
     "name": "stderr",
     "output_type": "stream",
     "text": [
      "\n",
      "                 Class     Images  Instances      Box(P          R      mAP50  mAP50-95): 100%|██████████| 1/1 [00:03<0"
     ]
    },
    {
     "name": "stdout",
     "output_type": "stream",
     "text": [
      "                   all         23        115      0.817      0.692       0.81      0.491\n"
     ]
    },
    {
     "name": "stderr",
     "output_type": "stream",
     "text": [
      "\n"
     ]
    },
    {
     "name": "stdout",
     "output_type": "stream",
     "text": [
      "\n",
      "100 epochs completed in 10.338 hours.\n",
      "Optimizer stripped from C:\\Users\\Kullanc\\Desktop\\dentalyze_jupyter3\\dental_detection\\weights\\last.pt, 6.3MB\n",
      "Optimizer stripped from C:\\Users\\Kullanc\\Desktop\\dentalyze_jupyter3\\dental_detection\\weights\\best.pt, 6.3MB\n",
      "\n",
      "Validating C:\\Users\\Kullanc\\Desktop\\dentalyze_jupyter3\\dental_detection\\weights\\best.pt...\n",
      "Ultralytics 8.3.48  Python-3.12.6 torch-2.5.1+cu118 CPU (AMD Ryzen 5 3500U with Radeon Vega Mobile Gfx)\n",
      "Model summary (fused): 168 layers, 3,006,818 parameters, 0 gradients, 8.1 GFLOPs\n"
     ]
    },
    {
     "name": "stderr",
     "output_type": "stream",
     "text": [
      "\n",
      "                Class     Images  Instances      Box(P          R      mAP50  mAP50-95): 100%|██████████| 1/1 [00:02<0"
     ]
    },
    {
     "name": "stdout",
     "output_type": "stream",
     "text": [
      "                   all         23        115      0.803      0.702      0.799      0.517\n",
      "         Healthy Teeth          8         14      0.576      0.643      0.716      0.545\n",
      "                Caries          3          4      0.639       0.25      0.457      0.241\n",
      "        Impacted Teeth          7         18      0.947      0.984      0.992      0.637\n",
      "               BDC/BDR          3          3          1      0.826      0.995      0.623\n",
      "             Infection          6          9          1      0.998      0.995      0.615\n",
      "       Fractured Teeth         22         67      0.658      0.507       0.64      0.439\n",
      "Speed: 2.9ms preprocess, 108.4ms inference, 0.0ms loss, 0.7ms postprocess per image\n",
      "Results saved to \u001b[1mC:\\Users\\Kullanc\\Desktop\\dentalyze_jupyter3\\dental_detection\u001b[0m\n"
     ]
    }
   ],
   "source": [
    "from ultralytics import YOLO\n",
    "\n",
    "# Model Eğitme\n",
    "def train_model():\n",
    "    model = YOLO('yolov8n.pt')\n",
    "    model.train(\n",
    "        data=dataset_yaml_path,\n",
    "        epochs=100,\n",
    "        batch=16,\n",
    "        imgsz=640,\n",
    "        name='dental_detection',\n",
    "        plots=True,\n",
    "        project='C:/Users/Kullanıcı/Desktop/dentalyze_jupyter3'\n",
    "    )\n",
    "\n",
    "# Eğitim Başlatma\n",
    "print(\"Eğitim başlatılıyor...\")\n",
    "train_model()\n"
   ]
  },
  {
   "cell_type": "code",
   "execution_count": 8,
   "id": "5793f72c-7c64-4398-a0d4-3af2a3b75685",
   "metadata": {},
   "outputs": [
    {
     "name": "stdout",
     "output_type": "stream",
     "text": [
      "Tahmin başlatılıyor...\n",
      "\n",
      "image 1/23 C:\\Users\\Kullanc\\Desktop\\dentalyze_jupyter3\\Dental OPG XRAY Dataset\\Augmented_Data\\test\\images\\104_jpg.rf.05501644f89b63b3f9ba38f2c2436c75.jpg: 352x640 1 Healthy Teeth, 1 Impacted Teeth, 237.8ms\n",
      "image 2/23 C:\\Users\\Kullanc\\Desktop\\dentalyze_jupyter3\\Dental OPG XRAY Dataset\\Augmented_Data\\test\\images\\106_jpg.rf.55f75c16fffc0fea03b260bf91b8fc68.jpg: 352x640 2 Infections, 2 Fractured Teeths, 195.6ms\n",
      "image 3/23 C:\\Users\\Kullanc\\Desktop\\dentalyze_jupyter3\\Dental OPG XRAY Dataset\\Augmented_Data\\test\\images\\127_jpg.rf.c6c7a6eea86965354399e338b71fbc6a.jpg: 288x640 2 Healthy Teeths, 1 Impacted Teeth, 4 Fractured Teeths, 175.6ms\n",
      "image 4/23 C:\\Users\\Kullanc\\Desktop\\dentalyze_jupyter3\\Dental OPG XRAY Dataset\\Augmented_Data\\test\\images\\143_jpg.rf.d7f7764bed646dc8d58806a732ef86f4.jpg: 352x640 1 Healthy Teeth, 1 Impacted Teeth, 1 Fractured Teeth, 192.2ms\n",
      "image 5/23 C:\\Users\\Kullanc\\Desktop\\dentalyze_jupyter3\\Dental OPG XRAY Dataset\\Augmented_Data\\test\\images\\146_jpg.rf.416fe5cb77bd045aedfc942be5392ff6.jpg: 320x640 3 Healthy Teeths, 149.3ms\n",
      "image 6/23 C:\\Users\\Kullanc\\Desktop\\dentalyze_jupyter3\\Dental OPG XRAY Dataset\\Augmented_Data\\test\\images\\150_jpg.rf.608ff673ae4ff875b58580c08f0ae389.jpg: 416x640 1 Healthy Teeth, 2 Fractured Teeths, 208.3ms\n",
      "image 7/23 C:\\Users\\Kullanc\\Desktop\\dentalyze_jupyter3\\Dental OPG XRAY Dataset\\Augmented_Data\\test\\images\\157_jpg.rf.86e6b8b13ac89f7c6b98a7a74a7ac9a5.jpg: 320x640 1 Infection, 2 Fractured Teeths, 230.5ms\n",
      "image 8/23 C:\\Users\\Kullanc\\Desktop\\dentalyze_jupyter3\\Dental OPG XRAY Dataset\\Augmented_Data\\test\\images\\160_jpg.rf.32ce857ccfe7859a4adc71a6ce2d40e1.jpg: 288x640 3 Healthy Teeths, 1 Impacted Teeth, 2 Fractured Teeths, 155.9ms\n",
      "image 9/23 C:\\Users\\Kullanc\\Desktop\\dentalyze_jupyter3\\Dental OPG XRAY Dataset\\Augmented_Data\\test\\images\\166_jpg.rf.f39fc4b554ab515d8114483ab2ae5f7e.jpg: 352x640 4 Impacted Teeths, 7 Fractured Teeths, 161.8ms\n",
      "image 10/23 C:\\Users\\Kullanc\\Desktop\\dentalyze_jupyter3\\Dental OPG XRAY Dataset\\Augmented_Data\\test\\images\\202_jpg.rf.a22a84a217ada9172974f74fd39c4a08.jpg: 352x640 1 Impacted Teeth, 4 Fractured Teeths, 145.9ms\n",
      "image 11/23 C:\\Users\\Kullanc\\Desktop\\dentalyze_jupyter3\\Dental OPG XRAY Dataset\\Augmented_Data\\test\\images\\208_jpg.rf.ab35fe79cc01f3a5f5b859a355281587.jpg: 352x640 1 Impacted Teeth, 3 Fractured Teeths, 155.0ms\n",
      "image 12/23 C:\\Users\\Kullanc\\Desktop\\dentalyze_jupyter3\\Dental OPG XRAY Dataset\\Augmented_Data\\test\\images\\209_jpg.rf.a7dd9a1a58986e35f3526c14e43fd8d6.jpg: 352x640 3 Healthy Teeths, 4 Impacted Teeths, 2 Fractured Teeths, 155.0ms\n",
      "image 13/23 C:\\Users\\Kullanc\\Desktop\\dentalyze_jupyter3\\Dental OPG XRAY Dataset\\Augmented_Data\\test\\images\\20_jpg.rf.48437b3e9a944601238ff447b3d64e3a.jpg: 352x640 1 Healthy Teeth, 1 Fractured Teeth, 234.5ms\n",
      "image 14/23 C:\\Users\\Kullanc\\Desktop\\dentalyze_jupyter3\\Dental OPG XRAY Dataset\\Augmented_Data\\test\\images\\217_jpg.rf.4e9a2b6c944e4816f6cc5190456b61ad.jpg: 320x640 2 Healthy Teeths, 3 Fractured Teeths, 136.5ms\n",
      "image 15/23 C:\\Users\\Kullanc\\Desktop\\dentalyze_jupyter3\\Dental OPG XRAY Dataset\\Augmented_Data\\test\\images\\227_jpg.rf.bdcd4401573f0898568a48ee9759d35f.jpg: 352x640 2 Fractured Teeths, 167.3ms\n",
      "image 16/23 C:\\Users\\Kullanc\\Desktop\\dentalyze_jupyter3\\Dental OPG XRAY Dataset\\Augmented_Data\\test\\images\\228_jpg.rf.9e640b13edda2fb98af1b4324076cfb4.jpg: 384x640 3 Fractured Teeths, 216.5ms\n",
      "image 17/23 C:\\Users\\Kullanc\\Desktop\\dentalyze_jupyter3\\Dental OPG XRAY Dataset\\Augmented_Data\\test\\images\\241_jpg.rf.3c014d1957e9444cb44590b9e905a08b.jpg: 320x640 5 Fractured Teeths, 167.2ms\n",
      "image 18/23 C:\\Users\\Kullanc\\Desktop\\dentalyze_jupyter3\\Dental OPG XRAY Dataset\\Augmented_Data\\test\\images\\53_jpg.rf.04f804e3c1dbb5704ce60f756fd9f383.jpg: 352x640 1 Healthy Teeth, 1 Infection, 1 Fractured Teeth, 295.6ms\n",
      "image 19/23 C:\\Users\\Kullanc\\Desktop\\dentalyze_jupyter3\\Dental OPG XRAY Dataset\\Augmented_Data\\test\\images\\55_jpg.rf.b602a40ebcc3dbe14cb3969255e9ef36.jpg: 448x640 1 Impacted Teeth, 4 Fractured Teeths, 317.3ms\n",
      "image 20/23 C:\\Users\\Kullanc\\Desktop\\dentalyze_jupyter3\\Dental OPG XRAY Dataset\\Augmented_Data\\test\\images\\76_jpg.rf.2ab92416f59dd61be9ebb0ac764f08ac.jpg: 416x640 1 Fractured Teeth, 204.0ms\n",
      "image 21/23 C:\\Users\\Kullanc\\Desktop\\dentalyze_jupyter3\\Dental OPG XRAY Dataset\\Augmented_Data\\test\\images\\77_jpg.rf.c4454db6f13c687c33b3527c2ed1c34d.jpg: 288x640 1 Healthy Teeth, 2 Cariess, 1 Infection, 3 Fractured Teeths, 151.3ms\n",
      "image 22/23 C:\\Users\\Kullanc\\Desktop\\dentalyze_jupyter3\\Dental OPG XRAY Dataset\\Augmented_Data\\test\\images\\79_jpg.rf.2704ac269069ec07b21b87a0e4fa8ae8.jpg: 320x640 3 Fractured Teeths, 156.9ms\n",
      "image 23/23 C:\\Users\\Kullanc\\Desktop\\dentalyze_jupyter3\\Dental OPG XRAY Dataset\\Augmented_Data\\test\\images\\84_jpg.rf.b383624f7975e139b24b6dccc47ba753.jpg: 352x640 1 Healthy Teeth, 1 Caries, 2 Fractured Teeths, 206.5ms\n",
      "Speed: 5.6ms preprocess, 192.0ms inference, 2.5ms postprocess per image at shape (1, 3, 352, 640)\n",
      "Results saved to \u001b[1mruns\\detect\\predict2\u001b[0m\n",
      "23 labels saved to runs\\detect\\predict2\\labels\n",
      "Tahmin tamamlandı.\n"
     ]
    }
   ],
   "source": [
    "from ultralytics import YOLO\n",
    "import os\n",
    "import yaml\n",
    "# Tahmin\n",
    "def predict_images():\n",
    "    # Doğru model yolunu kontrol edin\n",
    "    model_path = 'C:/Users/Kullanıcı/Desktop/dentalyze_jupyter3/dental_detection/weights/best.pt'\n",
    "    if not os.path.exists(model_path):\n",
    "        raise FileNotFoundError(f\"Model dosyası bulunamadı: {model_path}\")\n",
    "    \n",
    "    model = YOLO(model_path)\n",
    "    results = model.predict(\n",
    "        source='C:/Users/Kullanıcı/Desktop/dentalyze_jupyter3/Dental OPG XRAY Dataset/Augmented_Data/test/images',\n",
    "        conf=0.25,\n",
    "        save=True,\n",
    "        save_txt=True,\n",
    "        save_conf=True\n",
    "    )\n",
    "    return results\n",
    "\n",
    "# Tahmin Başlatma\n",
    "print(\"Tahmin başlatılıyor...\")\n",
    "results = predict_images()\n",
    "print(\"Tahmin tamamlandı.\")\n"
   ]
  },
  {
   "cell_type": "code",
   "execution_count": 9,
   "id": "904749d5-6e00-4a03-826c-76cf396ce2db",
   "metadata": {},
   "outputs": [
    {
     "name": "stdout",
     "output_type": "stream",
     "text": [
      "\n",
      "image 1/1 C:\\Users\\Kullanc\\Desktop\\dentalyze_jupyter3\\Dental OPG XRAY Dataset\\Original_Data\\1.jpg: 352x640 3 Healthy Teeths, 1 Caries, 3 Fractured Teeths, 246.5ms\n",
      "Speed: 15.8ms preprocess, 246.5ms inference, 0.0ms postprocess per image at shape (1, 3, 352, 640)\n",
      "Results saved to \u001b[1mC:\\Users\\Kullanc\\Desktop\\dentalyze_jupyter3\\results\\manual_test\u001b[0m\n"
     ]
    },
    {
     "data": {
      "image/png": "[encoded data removed]",
      "text/plain": [
       "<Figure size 1200x600 with 2 Axes>"
      ]
     },
     "metadata": {},
     "output_type": "display_data"
    }
   ],
   "source": [
    "from ultralytics import YOLO\n",
    "import matplotlib.pyplot as plt\n",
    "import cv2\n",
    "import os\n",
    "\n",
    "# Sınıf isimleri\n",
    "class_names = ['Healthy Teeth', 'Caries', 'Impacted Teeth', 'BDC/BDR', 'Infection', 'Fractured Teeth']\n",
    "\n",
    "# Modeli yükle\n",
    "model = YOLO('C:/Users/Kullanıcı/Desktop/dentalyze_jupyter3/dental_detection/weights/best.pt')\n",
    "\n",
    "# Yeni bir görüntü üzerinde tahmin yap\n",
    "image_path = \"C:/Users/Kullanıcı/Desktop/dentalyze_jupyter3/Dental OPG XRAY Dataset/Original_Data/1.jpg\"\n",
    "results = model.predict(\n",
    "    source=image_path,\n",
    "    conf=0.25,\n",
    "    save=True,\n",
    "    project='C:/Users/Kullanıcı/Desktop/dentalyze_jupyter3/results',\n",
    "    name='manual_test'\n",
    ")\n",
    "\n",
    "# Orijinal görüntüyü yükle\n",
    "original_image = cv2.imread(image_path)\n",
    "\n",
    "# Tahmin edilen görüntüyü yükle\n",
    "result_image_path = f\"C:/Users/Kullanıcı/Desktop/dentalyze_jupyter3/results/manual_test/{os.path.basename(image_path)}\"\n",
    "predicted_image = cv2.imread(result_image_path)\n",
    "\n",
    "# Orijinal bounding box bilgilerini oku ve çiz\n",
    "txt_path_original = f\"C:/Users/Kullanıcı/Desktop/dentalyze_jupyter3/Dental OPG XRAY Dataset/Original_Data/{os.path.splitext(os.path.basename(image_path))[0]}.txt\"\n",
    "if os.path.exists(txt_path_original):\n",
    "    with open(txt_path_original, \"r\") as f:\n",
    "        boxes_original = f.readlines()\n",
    "\n",
    "    for box in boxes_original:\n",
    "        class_id, x_center, y_center, width, height = map(float, box.split())\n",
    "        x1 = int((x_center - width / 2) * original_image.shape[1])\n",
    "        y1 = int((y_center - height / 2) * original_image.shape[0])\n",
    "        x2 = int((x_center + width / 2) * original_image.shape[1])\n",
    "        y2 = int((y_center + height / 2) * original_image.shape[0])\n",
    "\n",
    "        # Çerçeve çiz\n",
    "        cv2.rectangle(original_image, (x1, y1), (x2, y2), (255, 0, 0), 2)\n",
    "        cv2.putText(original_image, f\"{class_names[int(class_id)]} ({int(class_id)})\", (x1, y1 - 10), cv2.FONT_HERSHEY_SIMPLEX, 0.5, (255, 0, 0), 2)\n",
    "\n",
    "# Tahmin bounding box bilgilerini oku ve tahmin edilen görüntü üzerine çiz\n",
    "txt_path_predicted = f\"C:/Users/Kullanıcı/Desktop/dentalyze_jupyter3/results/manual_test/{os.path.splitext(os.path.basename(image_path))[0]}.txt\"\n",
    "if os.path.exists(txt_path_predicted):\n",
    "    with open(txt_path_predicted, \"r\") as f:\n",
    "        boxes_predicted = f.readlines()\n",
    "\n",
    "    for box in boxes_predicted:\n",
    "        class_id, x_center, y_center, width, height = map(float, box.split())\n",
    "        x1 = int((x_center - width / 2) * predicted_image.shape[1])\n",
    "        y1 = int((y_center - height / 2) * predicted_image.shape[0])\n",
    "        x2 = int((x_center + width / 2) * predicted_image.shape[1])\n",
    "        y2 = int((y_center + height / 2) * predicted_image.shape[0])\n",
    "\n",
    "        # Çerçeve çiz\n",
    "        cv2.rectangle(predicted_image, (x1, y1), (x2, y2), (0, 255, 0), 2)\n",
    "        cv2.putText(predicted_image, f\"{class_names[int(class_id)]} ({int(class_id)})\", (x1, y1 - 10), cv2.FONT_HERSHEY_SIMPLEX, 0.5, (0, 255, 0), 2)\n",
    "\n",
    "# Görselleştirme\n",
    "plt.figure(figsize=(12, 6))\n",
    "\n",
    "# Orijinal görüntü\n",
    "plt.subplot(1, 2, 1)\n",
    "plt.imshow(cv2.cvtColor(original_image, cv2.COLOR_BGR2RGB))\n",
    "plt.title(\"Orijinal Görüntü (Bounding Box'lar ile)\")\n",
    "plt.axis(\"off\")\n",
    "\n",
    "# Tahmin edilen görüntü\n",
    "plt.subplot(1, 2, 2)\n",
    "plt.imshow(cv2.cvtColor(predicted_image, cv2.COLOR_BGR2RGB))\n",
    "plt.title(\"Tahmin Edilen Görüntü\")\n",
    "plt.axis(\"off\")\n",
    "\n",
    "plt.show()"
   ]
  },
  {
   "cell_type": "code",
   "execution_count": 12,
   "id": "c8e1339a-6c3a-47f5-a35c-4bd6179ad777",
   "metadata": {},
   "outputs": [
    {
     "name": "stdout",
     "output_type": "stream",
     "text": [
      "\n",
      "image 1/23 C:\\Users\\Kullanc\\Desktop\\dentalyze_jupyter3\\Dental OPG XRAY Dataset\\Augmented_Data\\test\\images\\104_jpg.rf.05501644f89b63b3f9ba38f2c2436c75.jpg: 352x640 1 Healthy Teeth, 1 Impacted Teeth, 137.9ms\n",
      "image 2/23 C:\\Users\\Kullanc\\Desktop\\dentalyze_jupyter3\\Dental OPG XRAY Dataset\\Augmented_Data\\test\\images\\106_jpg.rf.55f75c16fffc0fea03b260bf91b8fc68.jpg: 352x640 2 Infections, 2 Fractured Teeths, 134.9ms\n",
      "image 3/23 C:\\Users\\Kullanc\\Desktop\\dentalyze_jupyter3\\Dental OPG XRAY Dataset\\Augmented_Data\\test\\images\\127_jpg.rf.c6c7a6eea86965354399e338b71fbc6a.jpg: 288x640 2 Healthy Teeths, 1 Impacted Teeth, 4 Fractured Teeths, 160.8ms\n",
      "image 4/23 C:\\Users\\Kullanc\\Desktop\\dentalyze_jupyter3\\Dental OPG XRAY Dataset\\Augmented_Data\\test\\images\\143_jpg.rf.d7f7764bed646dc8d58806a732ef86f4.jpg: 352x640 1 Healthy Teeth, 1 Impacted Teeth, 1 Fractured Teeth, 206.6ms\n",
      "image 5/23 C:\\Users\\Kullanc\\Desktop\\dentalyze_jupyter3\\Dental OPG XRAY Dataset\\Augmented_Data\\test\\images\\146_jpg.rf.416fe5cb77bd045aedfc942be5392ff6.jpg: 320x640 3 Healthy Teeths, 129.3ms\n",
      "image 6/23 C:\\Users\\Kullanc\\Desktop\\dentalyze_jupyter3\\Dental OPG XRAY Dataset\\Augmented_Data\\test\\images\\150_jpg.rf.608ff673ae4ff875b58580c08f0ae389.jpg: 416x640 1 Healthy Teeth, 2 Fractured Teeths, 155.2ms\n",
      "image 7/23 C:\\Users\\Kullanc\\Desktop\\dentalyze_jupyter3\\Dental OPG XRAY Dataset\\Augmented_Data\\test\\images\\157_jpg.rf.86e6b8b13ac89f7c6b98a7a74a7ac9a5.jpg: 320x640 1 Infection, 2 Fractured Teeths, 140.0ms\n",
      "image 8/23 C:\\Users\\Kullanc\\Desktop\\dentalyze_jupyter3\\Dental OPG XRAY Dataset\\Augmented_Data\\test\\images\\160_jpg.rf.32ce857ccfe7859a4adc71a6ce2d40e1.jpg: 288x640 3 Healthy Teeths, 1 Impacted Teeth, 2 Fractured Teeths, 170.1ms\n",
      "image 9/23 C:\\Users\\Kullanc\\Desktop\\dentalyze_jupyter3\\Dental OPG XRAY Dataset\\Augmented_Data\\test\\images\\166_jpg.rf.f39fc4b554ab515d8114483ab2ae5f7e.jpg: 352x640 4 Impacted Teeths, 7 Fractured Teeths, 209.4ms\n",
      "image 10/23 C:\\Users\\Kullanc\\Desktop\\dentalyze_jupyter3\\Dental OPG XRAY Dataset\\Augmented_Data\\test\\images\\202_jpg.rf.a22a84a217ada9172974f74fd39c4a08.jpg: 352x640 1 Impacted Teeth, 4 Fractured Teeths, 449.5ms\n",
      "image 11/23 C:\\Users\\Kullanc\\Desktop\\dentalyze_jupyter3\\Dental OPG XRAY Dataset\\Augmented_Data\\test\\images\\208_jpg.rf.ab35fe79cc01f3a5f5b859a355281587.jpg: 352x640 1 Impacted Teeth, 3 Fractured Teeths, 128.9ms\n",
      "image 12/23 C:\\Users\\Kullanc\\Desktop\\dentalyze_jupyter3\\Dental OPG XRAY Dataset\\Augmented_Data\\test\\images\\209_jpg.rf.a7dd9a1a58986e35f3526c14e43fd8d6.jpg: 352x640 3 Healthy Teeths, 4 Impacted Teeths, 2 Fractured Teeths, 156.4ms\n",
      "image 13/23 C:\\Users\\Kullanc\\Desktop\\dentalyze_jupyter3\\Dental OPG XRAY Dataset\\Augmented_Data\\test\\images\\20_jpg.rf.48437b3e9a944601238ff447b3d64e3a.jpg: 352x640 1 Healthy Teeth, 1 Fractured Teeth, 191.2ms\n",
      "image 14/23 C:\\Users\\Kullanc\\Desktop\\dentalyze_jupyter3\\Dental OPG XRAY Dataset\\Augmented_Data\\test\\images\\217_jpg.rf.4e9a2b6c944e4816f6cc5190456b61ad.jpg: 320x640 2 Healthy Teeths, 3 Fractured Teeths, 137.9ms\n",
      "image 15/23 C:\\Users\\Kullanc\\Desktop\\dentalyze_jupyter3\\Dental OPG XRAY Dataset\\Augmented_Data\\test\\images\\227_jpg.rf.bdcd4401573f0898568a48ee9759d35f.jpg: 352x640 2 Fractured Teeths, 135.8ms\n",
      "image 16/23 C:\\Users\\Kullanc\\Desktop\\dentalyze_jupyter3\\Dental OPG XRAY Dataset\\Augmented_Data\\test\\images\\228_jpg.rf.9e640b13edda2fb98af1b4324076cfb4.jpg: 384x640 3 Fractured Teeths, 204.0ms\n",
      "image 17/23 C:\\Users\\Kullanc\\Desktop\\dentalyze_jupyter3\\Dental OPG XRAY Dataset\\Augmented_Data\\test\\images\\241_jpg.rf.3c014d1957e9444cb44590b9e905a08b.jpg: 320x640 5 Fractured Teeths, 135.7ms\n",
      "image 18/23 C:\\Users\\Kullanc\\Desktop\\dentalyze_jupyter3\\Dental OPG XRAY Dataset\\Augmented_Data\\test\\images\\53_jpg.rf.04f804e3c1dbb5704ce60f756fd9f383.jpg: 352x640 1 Healthy Teeth, 1 Infection, 1 Fractured Teeth, 141.4ms\n",
      "image 19/23 C:\\Users\\Kullanc\\Desktop\\dentalyze_jupyter3\\Dental OPG XRAY Dataset\\Augmented_Data\\test\\images\\55_jpg.rf.b602a40ebcc3dbe14cb3969255e9ef36.jpg: 448x640 1 Impacted Teeth, 4 Fractured Teeths, 198.7ms\n",
      "image 20/23 C:\\Users\\Kullanc\\Desktop\\dentalyze_jupyter3\\Dental OPG XRAY Dataset\\Augmented_Data\\test\\images\\76_jpg.rf.2ab92416f59dd61be9ebb0ac764f08ac.jpg: 416x640 1 Fractured Teeth, 204.2ms\n",
      "image 21/23 C:\\Users\\Kullanc\\Desktop\\dentalyze_jupyter3\\Dental OPG XRAY Dataset\\Augmented_Data\\test\\images\\77_jpg.rf.c4454db6f13c687c33b3527c2ed1c34d.jpg: 288x640 1 Healthy Teeth, 2 Cariess, 1 Infection, 3 Fractured Teeths, 207.3ms\n",
      "image 22/23 C:\\Users\\Kullanc\\Desktop\\dentalyze_jupyter3\\Dental OPG XRAY Dataset\\Augmented_Data\\test\\images\\79_jpg.rf.2704ac269069ec07b21b87a0e4fa8ae8.jpg: 320x640 3 Fractured Teeths, 415.5ms\n",
      "image 23/23 C:\\Users\\Kullanc\\Desktop\\dentalyze_jupyter3\\Dental OPG XRAY Dataset\\Augmented_Data\\test\\images\\84_jpg.rf.b383624f7975e139b24b6dccc47ba753.jpg: 352x640 1 Healthy Teeth, 1 Caries, 2 Fractured Teeths, 138.4ms\n",
      "Speed: 3.4ms preprocess, 186.5ms inference, 2.0ms postprocess per image at shape (1, 3, 352, 640)\n",
      "Results saved to \u001b[1mC:\\Users\\Kullanc\\Desktop\\dentalyze_jupyter3\\runs\\predict\\predictions\u001b[0m\n",
      "23 labels saved to C:\\Users\\Kullanc\\Desktop\\dentalyze_jupyter3\\runs\\predict\\predictions\\labels\n",
      "Tahminler ve TXT dosyaları kaydedildi: C:/Users/Kullanıcı/Desktop/dentalyze_jupyter3/runs/predict/predictions\n"
     ]
    }
   ],
   "source": [
    "from ultralytics import YOLO\n",
    "import os\n",
    "\n",
    "# Modeli yükle\n",
    "model_path = \"C:/Users/Kullanıcı/Desktop/dentalyze_jupyter3/dental_detection/weights/best.pt\"\n",
    "model = YOLO(model_path)\n",
    "\n",
    "# Tahmin ve bounding box'ları kaydet\n",
    "def predict_and_save_txt(source_dir, output_dir):\n",
    "    # Tahmin sonuçlarını kaydedecek klasörü oluştur\n",
    "    os.makedirs(output_dir, exist_ok=True)\n",
    "    \n",
    "    # Tahmin yap\n",
    "    results = model.predict(\n",
    "        source=source_dir,\n",
    "        conf=0.25,          # Güven eşiği\n",
    "        save=True,          # Bounding box'lı görselleri kaydet\n",
    "        save_txt=True,      # YOLO formatında txt dosyalarını kaydet\n",
    "        project=output_dir, # Tahmin çıktılarının kaydedileceği ana dizin\n",
    "        name=\"predictions\"  # Özel klasör adı\n",
    "    )\n",
    "    \n",
    "    print(f\"Tahminler ve TXT dosyaları kaydedildi: {output_dir}/predictions\")\n",
    "\n",
    "# Kaynak dizin (test görüntüleri) ve çıktı dizini\n",
    "source_dir = \"C:/Users/Kullanıcı/Desktop/dentalyze_jupyter3/Dental OPG XRAY Dataset/Augmented_Data/test/images\"\n",
    "output_dir = \"C:/Users/Kullanıcı/Desktop/dentalyze_jupyter3/runs/predict\"\n",
    "\n",
    "# Fonksiyonu çalıştır\n",
    "predict_and_save_txt(source_dir, output_dir)\n"
   ]
  },
  {
   "cell_type": "code",
   "execution_count": 16,
   "id": "7d9c4aa3-c05e-40f0-84d4-e4a7fec54bca",
   "metadata": {},
   "outputs": [
    {
     "name": "stdout",
     "output_type": "stream",
     "text": [
      "Model Accuracy: 68.63%\n"
     ]
    }
   ],
   "source": [
    "import os\n",
    "import numpy as np\n",
    "\n",
    "# IoU (Intersection over Union) Hesaplama Fonksiyonu\n",
    "def calculate_iou(box1, box2):\n",
    "    x1 = max(box1[0], box2[0])\n",
    "    y1 = max(box1[1], box2[1])\n",
    "    x2 = min(box1[2], box2[2])\n",
    "    y2 = min(box1[3], box2[3])\n",
    "\n",
    "    intersection = max(0, x2 - x1) * max(0, y2 - y1)\n",
    "    box1_area = (box1[2] - box1[0]) * (box1[3] - box1[1])\n",
    "    box2_area = (box2[2] - box2[0]) * (box2[3] - box2[1])\n",
    "    union = box1_area + box2_area - intersection\n",
    "\n",
    "    return intersection / union if union > 0 else 0\n",
    "\n",
    "# YOLO Formatını [x1, y1, x2, y2] Formatına Dönüştürme\n",
    "def read_boxes(label_file, image_width, image_height):\n",
    "    boxes = []\n",
    "    with open(label_file, \"r\") as f:\n",
    "        for line in f.readlines():\n",
    "            parts = line.strip().split()\n",
    "            class_id, x_center, y_center, width, height = map(float, parts)\n",
    "            x1 = int((x_center - width / 2) * image_width)\n",
    "            y1 = int((y_center - height / 2) * image_height)\n",
    "            x2 = int((x_center + width / 2) * image_width)\n",
    "            y2 = int((y_center + height / 2) * image_height)\n",
    "            boxes.append([x1, y1, x2, y2, int(class_id)])\n",
    "    return boxes\n",
    "\n",
    "# Accuracy Hesaplama\n",
    "def calculate_accuracy(gt_dir, pred_dir, img_dir, iou_threshold=0.5):\n",
    "    total_gt = 0\n",
    "    correct_predictions = 0\n",
    "\n",
    "    for gt_file in os.listdir(gt_dir):\n",
    "        if gt_file.endswith(\".txt\"):\n",
    "            image_name = gt_file.replace(\".txt\", \".jpg\")  # Görüntü adını tahmin et\n",
    "            gt_path = os.path.join(gt_dir, gt_file)\n",
    "            pred_path = os.path.join(pred_dir, gt_file)\n",
    "            image_path = os.path.join(img_dir, image_name)\n",
    "\n",
    "            if not os.path.exists(pred_path):\n",
    "                continue  # Eğer tahmin dosyası yoksa atla\n",
    "            \n",
    "            # Görüntü boyutlarını al (YOLO formatına dönüştürmek için gerekli)\n",
    "            image = cv2.imread(image_path)\n",
    "            if image is None:\n",
    "                continue\n",
    "            img_height, img_width = image.shape[:2]\n",
    "\n",
    "            # Ground truth ve tahmin bounding box'larını oku\n",
    "            gt_boxes = read_boxes(gt_path, img_width, img_height)\n",
    "            pred_boxes = read_boxes(pred_path, img_width, img_height)\n",
    "\n",
    "            total_gt += len(gt_boxes)\n",
    "\n",
    "            for gt_box in gt_boxes:\n",
    "                for pred_box in pred_boxes:\n",
    "                    iou = calculate_iou(gt_box[:4], pred_box[:4])\n",
    "                    if iou >= iou_threshold and gt_box[4] == pred_box[4]:  # IoU ve sınıf kontrolü\n",
    "                        correct_predictions += 1\n",
    "                        break  # Bir ground truth kutusu için sadece bir doğru eşleşme sayılır\n",
    "\n",
    "    # Accuracy hesapla\n",
    "    accuracy = correct_predictions / total_gt if total_gt > 0 else 0\n",
    "    return accuracy\n",
    "\n",
    "# Dosya dizinleri\n",
    "import cv2\n",
    "\n",
    "gt_dir = \"C:/Users/Kullanıcı/Desktop/dentalyze_jupyter3/Dental OPG XRAY Dataset/Augmented_Data/test/labels\"  # Gerçek etiketler\n",
    "pred_dir = \"C:/Users/Kullanıcı/Desktop/dentalyze_jupyter3/runs/predict/predictions/labels\"  # Tahmin etiketleri\n",
    "img_dir = \"C:/Users/Kullanıcı/Desktop/dentalyze_jupyter3/Dental OPG XRAY Dataset/Augmented_Data/test/images\"  # Görüntüler\n",
    "\n",
    "# Accuracy Hesaplama\n",
    "accuracy = calculate_accuracy(gt_dir, pred_dir, img_dir)\n",
    "print(f\"Model Accuracy: {accuracy * 100:.2f}%\")\n"
   ]
  },
  {
   "cell_type": "code",
   "execution_count": null,
   "id": "1dfe132e-451a-4dbd-ad8a-0176cfcf4237",
   "metadata": {},
   "outputs": [],
   "source": []
  }
 ],
 "metadata": {
  "kernelspec": {
   "display_name": "Python 3 (ipykernel)",
   "language": "python",
   "name": "python3"
  },
  "language_info": {
   "codemirror_mode": {
    "name": "ipython",
    "version": 3
   },
   "file_extension": ".py",
   "mimetype": "text/x-python",
   "name": "python",
   "nbconvert_exporter": "python",
   "pygments_lexer": "ipython3",
   "version": "3.12.6"
  }
 },
 "nbformat": 4,
 "nbformat_minor": 5
}
